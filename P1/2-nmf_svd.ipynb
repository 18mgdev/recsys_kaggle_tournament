{
 "cells": [
  {
   "cell_type": "markdown",
   "metadata": {},
   "source": [
    "# Miembros del grupo \"Los hiperparámetros\" 🙍‍♂️🙍‍♀️🙍‍♂️\n",
    "\n",
    "- MIGUEL GONZÁLEZ GARCÍA\n",
    "- ROSA LÓPEZ ESCALONA\n",
    "- JAVIER QUESADA PAJARES\n",
    "\n",
    "---"
   ]
  },
  {
   "cell_type": "markdown",
   "metadata": {},
   "source": [
    "# MODELO HÍBRIDO PONDERADO: NMF + SVD (Public Score: 1.225)\n",
    "---"
   ]
  },
  {
   "cell_type": "markdown",
   "metadata": {},
   "source": [
    "# Imports 🔧"
   ]
  },
  {
   "cell_type": "code",
   "execution_count": null,
   "metadata": {},
   "outputs": [],
   "source": [
    "import pandas as pd\n",
    "import numpy as np\n",
    "from scipy.sparse import csr_matrix\n",
    "from sklearn.model_selection import train_test_split\n",
    "from surprise import SVD, Dataset, Reader\n",
    "from surprise.model_selection import train_test_split"
   ]
  },
  {
   "cell_type": "markdown",
   "metadata": {},
   "source": [
    "# Preprocesamiento del dataset 🧹"
   ]
  },
  {
   "cell_type": "code",
   "execution_count": 3,
   "metadata": {},
   "outputs": [
    {
     "name": "stdout",
     "output_type": "stream",
     "text": [
      "Media global de ratings: 7.6047\n"
     ]
    }
   ],
   "source": [
    "train_data = pd.read_csv(\"data/train.csv\", sep=\",\")\n",
    "test_data = pd.read_csv(\"data/test.csv\", sep=\",\")\n",
    "\n",
    "global_mean = train_data['rating'].mean()\n",
    "print(f\"Media global de ratings: {global_mean:.4f}\")"
   ]
  },
  {
   "cell_type": "code",
   "execution_count": 4,
   "metadata": {},
   "outputs": [
    {
     "data": {
      "text/html": [
       "<div>\n",
       "<style scoped>\n",
       "    .dataframe tbody tr th:only-of-type {\n",
       "        vertical-align: middle;\n",
       "    }\n",
       "\n",
       "    .dataframe tbody tr th {\n",
       "        vertical-align: top;\n",
       "    }\n",
       "\n",
       "    .dataframe thead th {\n",
       "        text-align: right;\n",
       "    }\n",
       "</style>\n",
       "<table border=\"1\" class=\"dataframe\">\n",
       "  <thead>\n",
       "    <tr style=\"text-align: right;\">\n",
       "      <th></th>\n",
       "      <th>user</th>\n",
       "      <th>item</th>\n",
       "      <th>rating</th>\n",
       "    </tr>\n",
       "  </thead>\n",
       "  <tbody>\n",
       "    <tr>\n",
       "      <th>0</th>\n",
       "      <td>1</td>\n",
       "      <td>25715</td>\n",
       "      <td>7.0</td>\n",
       "    </tr>\n",
       "    <tr>\n",
       "      <th>1</th>\n",
       "      <td>1</td>\n",
       "      <td>25716</td>\n",
       "      <td>10.0</td>\n",
       "    </tr>\n",
       "    <tr>\n",
       "      <th>2</th>\n",
       "      <td>5</td>\n",
       "      <td>25851</td>\n",
       "      <td>9.0</td>\n",
       "    </tr>\n",
       "    <tr>\n",
       "      <th>3</th>\n",
       "      <td>6</td>\n",
       "      <td>25923</td>\n",
       "      <td>5.0</td>\n",
       "    </tr>\n",
       "    <tr>\n",
       "      <th>4</th>\n",
       "      <td>7</td>\n",
       "      <td>25924</td>\n",
       "      <td>6.0</td>\n",
       "    </tr>\n",
       "  </tbody>\n",
       "</table>\n",
       "</div>"
      ],
      "text/plain": [
       "   user   item  rating\n",
       "0     1  25715     7.0\n",
       "1     1  25716    10.0\n",
       "2     5  25851     9.0\n",
       "3     6  25923     5.0\n",
       "4     7  25924     6.0"
      ]
     },
     "execution_count": 4,
     "metadata": {},
     "output_type": "execute_result"
    }
   ],
   "source": [
    "train_data.head(5)"
   ]
  },
  {
   "cell_type": "code",
   "execution_count": 5,
   "metadata": {},
   "outputs": [
    {
     "data": {
      "text/html": [
       "<div>\n",
       "<style scoped>\n",
       "    .dataframe tbody tr th:only-of-type {\n",
       "        vertical-align: middle;\n",
       "    }\n",
       "\n",
       "    .dataframe tbody tr th {\n",
       "        vertical-align: top;\n",
       "    }\n",
       "\n",
       "    .dataframe thead th {\n",
       "        text-align: right;\n",
       "    }\n",
       "</style>\n",
       "<table border=\"1\" class=\"dataframe\">\n",
       "  <thead>\n",
       "    <tr style=\"text-align: right;\">\n",
       "      <th></th>\n",
       "      <th>ID</th>\n",
       "      <th>user</th>\n",
       "      <th>item</th>\n",
       "    </tr>\n",
       "  </thead>\n",
       "  <tbody>\n",
       "    <tr>\n",
       "      <th>0</th>\n",
       "      <td>0</td>\n",
       "      <td>8117</td>\n",
       "      <td>268</td>\n",
       "    </tr>\n",
       "    <tr>\n",
       "      <th>1</th>\n",
       "      <td>1</td>\n",
       "      <td>10512</td>\n",
       "      <td>24393</td>\n",
       "    </tr>\n",
       "    <tr>\n",
       "      <th>2</th>\n",
       "      <td>2</td>\n",
       "      <td>534</td>\n",
       "      <td>1334</td>\n",
       "    </tr>\n",
       "    <tr>\n",
       "      <th>3</th>\n",
       "      <td>3</td>\n",
       "      <td>10984</td>\n",
       "      <td>6550</td>\n",
       "    </tr>\n",
       "    <tr>\n",
       "      <th>4</th>\n",
       "      <td>4</td>\n",
       "      <td>9093</td>\n",
       "      <td>22128</td>\n",
       "    </tr>\n",
       "  </tbody>\n",
       "</table>\n",
       "</div>"
      ],
      "text/plain": [
       "   ID   user   item\n",
       "0   0   8117    268\n",
       "1   1  10512  24393\n",
       "2   2    534   1334\n",
       "3   3  10984   6550\n",
       "4   4   9093  22128"
      ]
     },
     "execution_count": 5,
     "metadata": {},
     "output_type": "execute_result"
    }
   ],
   "source": [
    "test_data.head(5)"
   ]
  },
  {
   "cell_type": "code",
   "execution_count": 6,
   "metadata": {},
   "outputs": [],
   "source": [
    "#train_data, val_split = train_test_split(train_data, test_size=0.2, random_state=42)"
   ]
  },
  {
   "cell_type": "markdown",
   "metadata": {},
   "source": [
    "## Creación de matriz dispersa 🧩"
   ]
  },
  {
   "cell_type": "code",
   "execution_count": null,
   "metadata": {},
   "outputs": [
    {
     "name": "stdout",
     "output_type": "stream",
     "text": [
      "Número de usuarios: 73456\n",
      "Número de ítems: 171171\n"
     ]
    }
   ],
   "source": [
    "unique_users = train_data['user'].unique()\n",
    "unique_items = train_data['item'].unique()\n",
    "\n",
    "user_to_index = {user: idx for idx, user in enumerate(unique_users)}\n",
    "item_to_index = {item: idx for idx, item in enumerate(unique_items)}\n",
    "\n",
    "num_users = len(unique_users)\n",
    "num_items = len(unique_items)\n",
    "\n",
    "print(f\"Número de usuarios: {num_users}\")\n",
    "print(f\"Número de ítems: {num_items}\")"
   ]
  },
  {
   "cell_type": "code",
   "execution_count": null,
   "metadata": {},
   "outputs": [
    {
     "name": "stdout",
     "output_type": "stream",
     "text": [
      "Matriz dispersa creada con dimensiones: (73456, 171171)\n",
      "Número de ratings no nulos en la matriz: 390351\n"
     ]
    }
   ],
   "source": [
    "# Crea la matriz dispersa\n",
    "rows = train_data['user'].map(user_to_index).values\n",
    "cols = train_data['item'].map(item_to_index).values\n",
    "ratings = train_data['rating'].values\n",
    "\n",
    "R_sparse = csr_matrix((ratings, (rows, cols)), shape=(num_users, num_items))\n",
    "\n",
    "print(f\"Matriz dispersa creada con dimensiones: {R_sparse.shape}\")\n",
    "print(\"Número de ratings no nulos en la matriz:\", R_sparse.nnz)"
   ]
  },
  {
   "cell_type": "markdown",
   "metadata": {},
   "source": [
    "# Entrenamiento NMF 🏋️"
   ]
  },
  {
   "cell_type": "code",
   "execution_count": null,
   "metadata": {},
   "outputs": [
    {
     "name": "stdout",
     "output_type": "stream",
     "text": [
      "Factores latentes inicializados: U ((73456, 20)), V ((171171, 20))\n",
      "Sesgos inicializados: bu ((73456,)), bi ((171171,))\n"
     ]
    }
   ],
   "source": [
    "# Hiperparámetros\n",
    "k = 20  # Número de factores latentes\n",
    "lambda_ = 0.015  # Regularización\n",
    "learning_rate = 0.003  # Tasa de aprendizaje\n",
    "num_epochs = 65  # Número de iteraciones\n",
    "\n",
    "mu = global_mean\n",
    "\n",
    "# Inicialización aleatoria de las matrices latentes U y V\n",
    "U = np.random.normal(scale=1./k, size=(num_users, k))\n",
    "V = np.random.normal(scale=1./k, size=(num_items, k))\n",
    "\n",
    "# Inicialización de sesgos\n",
    "bu = np.zeros(num_users)\n",
    "bi = np.zeros(num_items)\n",
    "\n",
    "print(f\"Factores latentes inicializados: U ({U.shape}), V ({V.shape})\")\n",
    "print(f\"Sesgos inicializados: bu ({bu.shape}), bi ({bi.shape})\")\n"
   ]
  },
  {
   "cell_type": "code",
   "execution_count": 10,
   "metadata": {},
   "outputs": [],
   "source": [
    "def train_nmf_with_bias(R_sparse, U, V, bu, bi, mu, lambda_, lr, num_epochs):\n",
    "    rows, cols = R_sparse.nonzero()  # Índices de las posiciones no nulas en la matriz\n",
    "    num_ratings = len(rows)\n",
    "\n",
    "    for epoch in range(num_epochs):\n",
    "        total_cost = 0\n",
    "        for idx in range(num_ratings):\n",
    "            i = rows[idx]  # Usuario\n",
    "            j = cols[idx]  # Ítem\n",
    "            r_ij = R_sparse[i, j]  # Rating real del usuario i sobre el ítem j\n",
    "\n",
    "            # Predicción incluyendo el sesgo\n",
    "            pred_ij = mu + bu[i] + bi[j] + np.dot(U[i, :], V[j, :])\n",
    "            error = r_ij - pred_ij\n",
    "\n",
    "            # Actualización de los factores latentes y sesgos\n",
    "            bu[i] += lr * (error - lambda_ * bu[i])\n",
    "            bi[j] += lr * (error - lambda_ * bi[j])\n",
    "            U[i, :] += lr * (error * V[j, :] - lambda_ * U[i, :])\n",
    "            V[j, :] += lr * (error * U[i, :] - lambda_ * V[j, :])\n",
    "\n",
    "            # Costo regularizado\n",
    "            total_cost += error**2 + (lambda_ / 2) * (np.linalg.norm(U[i, :])**2 + np.linalg.norm(V[j, :])**2 + bu[i]**2 + bi[j]**2)\n",
    "\n",
    "        print(f\"Época {epoch + 1}/{num_epochs} - Costo total: {total_cost:.4f}\")\n",
    "\n",
    "    return U, V, bu, bi\n"
   ]
  },
  {
   "cell_type": "code",
   "execution_count": null,
   "metadata": {},
   "outputs": [
    {
     "name": "stdout",
     "output_type": "stream",
     "text": [
      "Iniciando entrenamiento NMF...\n",
      "Época 1/65 - Costo total: 1244759.2920\n",
      "Época 2/65 - Costo total: 1167391.4999\n",
      "Época 3/65 - Costo total: 1125103.7221\n",
      "Época 4/65 - Costo total: 1094275.4252\n",
      "Época 5/65 - Costo total: 1069459.8229\n",
      "Época 6/65 - Costo total: 1048376.3684\n",
      "Época 7/65 - Costo total: 1029814.0350\n",
      "Época 8/65 - Costo total: 1013019.6689\n",
      "Época 9/65 - Costo total: 997451.3513\n",
      "Época 10/65 - Costo total: 982662.6250\n",
      "Época 11/65 - Costo total: 968263.0777\n",
      "Época 12/65 - Costo total: 953964.5964\n",
      "Época 13/65 - Costo total: 939719.4864\n",
      "Época 14/65 - Costo total: 925830.1031\n",
      "Época 15/65 - Costo total: 912776.4980\n",
      "Época 16/65 - Costo total: 900805.4472\n",
      "Época 17/65 - Costo total: 889779.3525\n",
      "Época 18/65 - Costo total: 879400.7071\n",
      "Época 19/65 - Costo total: 869418.4923\n",
      "Época 20/65 - Costo total: 859667.7647\n",
      "Época 21/65 - Costo total: 850044.6629\n",
      "Época 22/65 - Costo total: 840483.8425\n",
      "Época 23/65 - Costo total: 830947.0380\n",
      "Época 24/65 - Costo total: 821417.2225\n",
      "Época 25/65 - Costo total: 811893.6014\n",
      "Época 26/65 - Costo total: 802385.4572\n",
      "Época 27/65 - Costo total: 792905.3202\n",
      "Época 28/65 - Costo total: 783463.1331\n",
      "Época 29/65 - Costo total: 774062.7232\n",
      "Época 30/65 - Costo total: 764700.8098\n",
      "Época 31/65 - Costo total: 755368.0051\n",
      "Época 32/65 - Costo total: 746051.0662\n",
      "Época 33/65 - Costo total: 736735.6672\n",
      "Época 34/65 - Costo total: 727408.9990\n",
      "Época 35/65 - Costo total: 718061.6479\n",
      "Época 36/65 - Costo total: 708688.4841\n",
      "Época 37/65 - Costo total: 699288.6074\n",
      "Época 38/65 - Costo total: 689864.6189\n",
      "Época 39/65 - Costo total: 680421.5695\n",
      "Época 40/65 - Costo total: 670965.8973\n",
      "Época 41/65 - Costo total: 661504.5590\n",
      "Época 42/65 - Costo total: 652044.4488\n",
      "Época 43/65 - Costo total: 642592.1002\n",
      "Época 44/65 - Costo total: 633153.6136\n",
      "Época 45/65 - Costo total: 623734.7275\n",
      "Época 46/65 - Costo total: 614340.9599\n",
      "Época 47/65 - Costo total: 604977.7606\n",
      "Época 48/65 - Costo total: 595650.6375\n",
      "Época 49/65 - Costo total: 586365.2377\n",
      "Época 50/65 - Costo total: 577127.3762\n",
      "Época 51/65 - Costo total: 567943.0170\n",
      "Época 52/65 - Costo total: 558818.2128\n",
      "Época 53/65 - Costo total: 549759.0191\n",
      "Época 54/65 - Costo total: 540771.3927\n",
      "Época 55/65 - Costo total: 531861.0892\n",
      "Época 56/65 - Costo total: 523033.5694\n",
      "Época 57/65 - Costo total: 514293.9215\n",
      "Época 58/65 - Costo total: 505646.8040\n",
      "Época 59/65 - Costo total: 497096.4112\n",
      "Época 60/65 - Costo total: 488646.4585\n",
      "Época 61/65 - Costo total: 480300.1865\n",
      "Época 62/65 - Costo total: 472060.3795\n",
      "Época 63/65 - Costo total: 463929.3945\n",
      "Época 64/65 - Costo total: 455909.1959\n",
      "Época 65/65 - Costo total: 448001.3945\n",
      "Entrenamiento completado.\n"
     ]
    }
   ],
   "source": [
    "print(\"Iniciando entrenamiento NMF...\")\n",
    "U, V, bu, bi = train_nmf_with_bias(R_sparse, U, V, bu, bi, mu, lambda_, learning_rate, num_epochs)\n",
    "print(\"Entrenamiento completado.\")"
   ]
  },
  {
   "cell_type": "markdown",
   "metadata": {},
   "source": [
    "# Entrenamiento SVD 🏋️"
   ]
  },
  {
   "cell_type": "code",
   "execution_count": null,
   "metadata": {},
   "outputs": [
    {
     "name": "stdout",
     "output_type": "stream",
     "text": [
      "Entrenando el modelo SVD...\n",
      "Modelo SVD entrenado correctamente.\n"
     ]
    }
   ],
   "source": [
    "reader = Reader(rating_scale=(1, 10))\n",
    "data = Dataset.load_from_df(train_data[['user', 'item', 'rating']], reader)\n",
    "\n",
    "trainset = data.build_full_trainset()\n",
    "\n",
    "# División en conjunto de entrenamiento y validación\n",
    "#trainset, valset = train_test_split(data, test_size=0.2, random_state=42)\n",
    "\n",
    "# Configuración del modelo SVD\n",
    "svd = SVD(n_factors=20, n_epochs=50, biased=True, lr_all=0.002, reg_all= 0.02, random_state=42)\n",
    "\n",
    "print(\"Entrenando el modelo SVD...\")\n",
    "svd.fit(trainset)\n",
    "print(\"Modelo SVD entrenado correctamente.\")"
   ]
  },
  {
   "cell_type": "markdown",
   "metadata": {},
   "source": [
    "# Predicciones y generación de CSV 🧠"
   ]
  },
  {
   "cell_type": "code",
   "execution_count": null,
   "metadata": {},
   "outputs": [],
   "source": [
    "def predict_rating(uid, iid, U, V, bu, bi, mu):\n",
    "    try:\n",
    "        # Predicción usando SVD\n",
    "        pred_svd = svd.predict(uid, iid).est\n",
    "    except:\n",
    "        pred_svd = None\n",
    "\n",
    "    # Predicción usando NMF con bias\n",
    "    if uid in user_to_index and iid in item_to_index:\n",
    "        user_idx = user_to_index[uid]\n",
    "        item_idx = item_to_index[iid]\n",
    "        pred_nmf = mu + bu[user_idx] + bi[item_idx] + np.dot(U[user_idx, :], V[item_idx, :])\n",
    "    else:\n",
    "        pred_nmf = None\n",
    "\n",
    "    # Ponderación de las predicciones\n",
    "    if pred_svd is not None and pred_nmf is not None:\n",
    "        pred = (0.3 * pred_svd) + (0.7 * pred_nmf)\n",
    "    elif pred_svd is not None:\n",
    "        pred = pred_svd\n",
    "    elif pred_nmf is not None:\n",
    "        pred = pred_nmf\n",
    "    else:\n",
    "        pred = mu  # Si ambos fallan, usar la media global\n",
    "\n",
    "    return f\"{round(max(1, min(10, pred)))}.0\""
   ]
  },
  {
   "cell_type": "code",
   "execution_count": null,
   "metadata": {},
   "outputs": [
    {
     "name": "stdout",
     "output_type": "stream",
     "text": [
      "Generando predicciones finales...\n",
      "Archivo 'predictions_nmf_svd.csv' generado correctamente.\n"
     ]
    }
   ],
   "source": [
    "print(\"Generando predicciones finales...\")\n",
    "predictions = []\n",
    "\n",
    "for _, row in test_data.iterrows():\n",
    "    uid, iid, row_id = row['user'], row['item'], row['ID']\n",
    "    pred_rating = predict_rating(uid, iid, U, V, bu, bi, mu)\n",
    "    predictions.append((row_id, pred_rating))\n",
    "\n",
    "predictions_df = pd.DataFrame(predictions, columns=[\"ID\", \"rating\"])\n",
    "\n",
    "output_filename = \"predictions_nmf_svd.csv\"\n",
    "predictions_df.to_csv(output_filename, index=False)\n",
    "print(f\"Archivo '{output_filename}' generado correctamente.\")"
   ]
  }
 ],
 "metadata": {
  "kernelspec": {
   "display_name": "Python 3",
   "language": "python",
   "name": "python3"
  },
  "language_info": {
   "codemirror_mode": {
    "name": "ipython",
    "version": 3
   },
   "file_extension": ".py",
   "mimetype": "text/x-python",
   "name": "python",
   "nbconvert_exporter": "python",
   "pygments_lexer": "ipython3",
   "version": "3.12.1"
  }
 },
 "nbformat": 4,
 "nbformat_minor": 2
}
