{
  "cells": [
    {
      "cell_type": "code",
      "execution_count": 1,
      "id": "2e5d10e2",
      "metadata": {
        "id": "2e5d10e2"
      },
      "outputs": [],
      "source": [
        "DATASETS_DIR = \"C:/Users/mgonz/Desktop/yelp/\"\n",
        "# DATASETS_DIR = \"./\"\n",
        "import pandas as pd\n",
        "from sklearn.model_selection import train_test_split\n",
        "import numpy as np\n",
        "from sklearn.metrics import mean_squared_error, mean_absolute_error, r2_score, accuracy_score\n",
        "\n",
        "import matplotlib.pyplot as plt\n",
        "\n",
        "from tensorflow.keras.models import Sequential\n",
        "from tensorflow.keras.layers import Dense, Dropout\n",
        "from tensorflow.keras.optimizers import Adam"
      ]
    },
    {
      "cell_type": "code",
      "execution_count": 2,
      "id": "dde1c8ad",
      "metadata": {
        "id": "dde1c8ad"
      },
      "outputs": [],
      "source": [
        "df_train = pd.read_csv(DATASETS_DIR + \"train_reviews.csv\")\n",
        "df_test = pd.read_csv(DATASETS_DIR + \"test_reviews.csv\")"
      ]
    },
    {
      "cell_type": "markdown",
      "id": "82d7ec95",
      "metadata": {
        "id": "82d7ec95"
      },
      "source": [
        "### df_train"
      ]
    },
    {
      "cell_type": "code",
      "execution_count": 3,
      "id": "6cf9fd0b",
      "metadata": {
        "colab": {
          "base_uri": "https://localhost:8080/",
          "height": 224
        },
        "id": "6cf9fd0b",
        "outputId": "8aee7fcc-d30a-4df8-fa04-974e67ac7a22"
      },
      "outputs": [
        {
          "name": "stdout",
          "output_type": "stream",
          "text": [
            "Train set shape: (967784, 9)\n"
          ]
        },
        {
          "data": {
            "text/html": [
              "<div>\n",
              "<style scoped>\n",
              "    .dataframe tbody tr th:only-of-type {\n",
              "        vertical-align: middle;\n",
              "    }\n",
              "\n",
              "    .dataframe tbody tr th {\n",
              "        vertical-align: top;\n",
              "    }\n",
              "\n",
              "    .dataframe thead th {\n",
              "        text-align: right;\n",
              "    }\n",
              "</style>\n",
              "<table border=\"1\" class=\"dataframe\">\n",
              "  <thead>\n",
              "    <tr style=\"text-align: right;\">\n",
              "      <th></th>\n",
              "      <th>review_id</th>\n",
              "      <th>user_id</th>\n",
              "      <th>business_id</th>\n",
              "      <th>stars</th>\n",
              "      <th>useful</th>\n",
              "      <th>funny</th>\n",
              "      <th>cool</th>\n",
              "      <th>text</th>\n",
              "      <th>date</th>\n",
              "    </tr>\n",
              "  </thead>\n",
              "  <tbody>\n",
              "    <tr>\n",
              "      <th>0</th>\n",
              "      <td>ZZO43qKB-s65zplC8RfJqw</td>\n",
              "      <td>-1BSu2dt_rOAqllw9ZDXtA</td>\n",
              "      <td>smkZq4G1AOm4V6p3id5sww</td>\n",
              "      <td>5.0</td>\n",
              "      <td>0</td>\n",
              "      <td>0</td>\n",
              "      <td>0</td>\n",
              "      <td>Fantastic fresh food. The greek salad is amazi...</td>\n",
              "      <td>2016-09-30 15:49:32</td>\n",
              "    </tr>\n",
              "    <tr>\n",
              "      <th>1</th>\n",
              "      <td>vojXOF_VOgvuKD95gCO8_Q</td>\n",
              "      <td>xpe178ng_gj5X6HgqtOing</td>\n",
              "      <td>96_c_7twb7hYRZ9HHrq01g</td>\n",
              "      <td>1.0</td>\n",
              "      <td>2</td>\n",
              "      <td>0</td>\n",
              "      <td>1</td>\n",
              "      <td>Been a patient at Largo Med/Diagnostic Clinic ...</td>\n",
              "      <td>2020-12-09 14:39:51</td>\n",
              "    </tr>\n",
              "    <tr>\n",
              "      <th>2</th>\n",
              "      <td>KwxdbiseRlIRNzpgvyjY0Q</td>\n",
              "      <td>axbaerf2Fk92OB4b9_peVA</td>\n",
              "      <td>e0AYjKfSF0DL-5C1CpOq6Q</td>\n",
              "      <td>4.0</td>\n",
              "      <td>0</td>\n",
              "      <td>0</td>\n",
              "      <td>0</td>\n",
              "      <td>The location is convenient to my campus so I d...</td>\n",
              "      <td>2013-09-04 16:19:51</td>\n",
              "    </tr>\n",
              "    <tr>\n",
              "      <th>3</th>\n",
              "      <td>3mwoBcTy-2gMh0L91uaIeA</td>\n",
              "      <td>_GOiybb0rImYKJfwyxEaGg</td>\n",
              "      <td>vF-uptiQ34pVLHJKzPHUlA</td>\n",
              "      <td>5.0</td>\n",
              "      <td>0</td>\n",
              "      <td>0</td>\n",
              "      <td>0</td>\n",
              "      <td>I agree with all the other compliments posted ...</td>\n",
              "      <td>2019-03-02 12:24:14</td>\n",
              "    </tr>\n",
              "    <tr>\n",
              "      <th>4</th>\n",
              "      <td>XfWf7XsBWs3kYyYq7Ns1ZQ</td>\n",
              "      <td>ojWKg3B5pH3ncAsxun3kUw</td>\n",
              "      <td>X28XK71RuEXPapeyUOwNzg</td>\n",
              "      <td>5.0</td>\n",
              "      <td>10</td>\n",
              "      <td>4</td>\n",
              "      <td>7</td>\n",
              "      <td>Wanting to help out the local economy, I thoug...</td>\n",
              "      <td>2020-04-23 18:26:29</td>\n",
              "    </tr>\n",
              "  </tbody>\n",
              "</table>\n",
              "</div>"
            ],
            "text/plain": [
              "                review_id                 user_id             business_id  \\\n",
              "0  ZZO43qKB-s65zplC8RfJqw  -1BSu2dt_rOAqllw9ZDXtA  smkZq4G1AOm4V6p3id5sww   \n",
              "1  vojXOF_VOgvuKD95gCO8_Q  xpe178ng_gj5X6HgqtOing  96_c_7twb7hYRZ9HHrq01g   \n",
              "2  KwxdbiseRlIRNzpgvyjY0Q  axbaerf2Fk92OB4b9_peVA  e0AYjKfSF0DL-5C1CpOq6Q   \n",
              "3  3mwoBcTy-2gMh0L91uaIeA  _GOiybb0rImYKJfwyxEaGg  vF-uptiQ34pVLHJKzPHUlA   \n",
              "4  XfWf7XsBWs3kYyYq7Ns1ZQ  ojWKg3B5pH3ncAsxun3kUw  X28XK71RuEXPapeyUOwNzg   \n",
              "\n",
              "   stars  useful  funny  cool  \\\n",
              "0    5.0       0      0     0   \n",
              "1    1.0       2      0     1   \n",
              "2    4.0       0      0     0   \n",
              "3    5.0       0      0     0   \n",
              "4    5.0      10      4     7   \n",
              "\n",
              "                                                text                 date  \n",
              "0  Fantastic fresh food. The greek salad is amazi...  2016-09-30 15:49:32  \n",
              "1  Been a patient at Largo Med/Diagnostic Clinic ...  2020-12-09 14:39:51  \n",
              "2  The location is convenient to my campus so I d...  2013-09-04 16:19:51  \n",
              "3  I agree with all the other compliments posted ...  2019-03-02 12:24:14  \n",
              "4  Wanting to help out the local economy, I thoug...  2020-04-23 18:26:29  "
            ]
          },
          "execution_count": 3,
          "metadata": {},
          "output_type": "execute_result"
        }
      ],
      "source": [
        "print(\"Train set shape:\", df_train.shape)\n",
        "df_train.head(5)"
      ]
    },
    {
      "cell_type": "code",
      "execution_count": 4,
      "id": "af067e82",
      "metadata": {
        "colab": {
          "base_uri": "https://localhost:8080/"
        },
        "id": "af067e82",
        "outputId": "647690a6-cb62-4c34-9e5b-958e5cf17a29"
      },
      "outputs": [
        {
          "data": {
            "text/plain": [
              "array([5., 1., 4., 2., 3.])"
            ]
          },
          "execution_count": 4,
          "metadata": {},
          "output_type": "execute_result"
        }
      ],
      "source": [
        "df_train[\"stars\"].unique()"
      ]
    },
    {
      "cell_type": "markdown",
      "id": "ba4bf3aa",
      "metadata": {
        "id": "ba4bf3aa"
      },
      "source": [
        "### df_test"
      ]
    },
    {
      "cell_type": "code",
      "execution_count": 3,
      "id": "61504790",
      "metadata": {
        "colab": {
          "base_uri": "https://localhost:8080/",
          "height": 224
        },
        "id": "61504790",
        "outputId": "e75e0595-3096-42a4-9cf4-ab3a23e98b50"
      },
      "outputs": [
        {
          "name": "stdout",
          "output_type": "stream",
          "text": [
            "Test set shape: (414765, 8)\n"
          ]
        },
        {
          "data": {
            "text/html": [
              "<div>\n",
              "<style scoped>\n",
              "    .dataframe tbody tr th:only-of-type {\n",
              "        vertical-align: middle;\n",
              "    }\n",
              "\n",
              "    .dataframe tbody tr th {\n",
              "        vertical-align: top;\n",
              "    }\n",
              "\n",
              "    .dataframe thead th {\n",
              "        text-align: right;\n",
              "    }\n",
              "</style>\n",
              "<table border=\"1\" class=\"dataframe\">\n",
              "  <thead>\n",
              "    <tr style=\"text-align: right;\">\n",
              "      <th></th>\n",
              "      <th>review_id</th>\n",
              "      <th>user_id</th>\n",
              "      <th>business_id</th>\n",
              "      <th>useful</th>\n",
              "      <th>funny</th>\n",
              "      <th>cool</th>\n",
              "      <th>text</th>\n",
              "      <th>date</th>\n",
              "    </tr>\n",
              "  </thead>\n",
              "  <tbody>\n",
              "    <tr>\n",
              "      <th>0</th>\n",
              "      <td>ieYPmCImINjPzTDFmEKBKA</td>\n",
              "      <td>79F9QrQSet-b1yRCIM243Q</td>\n",
              "      <td>sXSUzImYOcRRI3xtG2M85g</td>\n",
              "      <td>1</td>\n",
              "      <td>0</td>\n",
              "      <td>1</td>\n",
              "      <td>Amazing coffee and chill atmosphere. The staff...</td>\n",
              "      <td>2018-01-29 04:33:28</td>\n",
              "    </tr>\n",
              "    <tr>\n",
              "      <th>1</th>\n",
              "      <td>QIkJ8fZ4yx_QaHahWWszAA</td>\n",
              "      <td>chuM6TBkFHtTwJ6z96Hj1A</td>\n",
              "      <td>Ipt9ga67vVC_2ob3YmVwNA</td>\n",
              "      <td>4</td>\n",
              "      <td>0</td>\n",
              "      <td>2</td>\n",
              "      <td>I pass by this joint every time I make a run t...</td>\n",
              "      <td>2011-01-10 03:10:49</td>\n",
              "    </tr>\n",
              "    <tr>\n",
              "      <th>2</th>\n",
              "      <td>seR2KhblYMWg-k9zzN6aYA</td>\n",
              "      <td>hF68a0mpu97u0oaryFYhyg</td>\n",
              "      <td>_RG4IByyBR528CMc7DefJA</td>\n",
              "      <td>2</td>\n",
              "      <td>0</td>\n",
              "      <td>0</td>\n",
              "      <td>Came here when my kitten got very sick by the ...</td>\n",
              "      <td>2015-09-06 15:29:02</td>\n",
              "    </tr>\n",
              "    <tr>\n",
              "      <th>3</th>\n",
              "      <td>BToo00Fi5pfJFA5MI2HM5g</td>\n",
              "      <td>G4yX5Q1tFfwSucFOmiyjdA</td>\n",
              "      <td>xxlbRiWWQkk-6LST3Hd12g</td>\n",
              "      <td>2</td>\n",
              "      <td>0</td>\n",
              "      <td>0</td>\n",
              "      <td>So I'll preface by saying we did have an overa...</td>\n",
              "      <td>2015-09-14 00:49:17</td>\n",
              "    </tr>\n",
              "    <tr>\n",
              "      <th>4</th>\n",
              "      <td>FHJAzi1imodBit3RWK7zQA</td>\n",
              "      <td>Srqi1xb7exdB9uRHxDeEkw</td>\n",
              "      <td>LgGqdFLD7-ca0Z9F_q4Fuw</td>\n",
              "      <td>0</td>\n",
              "      <td>0</td>\n",
              "      <td>0</td>\n",
              "      <td>This place is a joke. Worst bar service ever. ...</td>\n",
              "      <td>2015-07-24 01:03:40</td>\n",
              "    </tr>\n",
              "  </tbody>\n",
              "</table>\n",
              "</div>"
            ],
            "text/plain": [
              "                review_id                 user_id             business_id  \\\n",
              "0  ieYPmCImINjPzTDFmEKBKA  79F9QrQSet-b1yRCIM243Q  sXSUzImYOcRRI3xtG2M85g   \n",
              "1  QIkJ8fZ4yx_QaHahWWszAA  chuM6TBkFHtTwJ6z96Hj1A  Ipt9ga67vVC_2ob3YmVwNA   \n",
              "2  seR2KhblYMWg-k9zzN6aYA  hF68a0mpu97u0oaryFYhyg  _RG4IByyBR528CMc7DefJA   \n",
              "3  BToo00Fi5pfJFA5MI2HM5g  G4yX5Q1tFfwSucFOmiyjdA  xxlbRiWWQkk-6LST3Hd12g   \n",
              "4  FHJAzi1imodBit3RWK7zQA  Srqi1xb7exdB9uRHxDeEkw  LgGqdFLD7-ca0Z9F_q4Fuw   \n",
              "\n",
              "   useful  funny  cool                                               text  \\\n",
              "0       1      0     1  Amazing coffee and chill atmosphere. The staff...   \n",
              "1       4      0     2  I pass by this joint every time I make a run t...   \n",
              "2       2      0     0  Came here when my kitten got very sick by the ...   \n",
              "3       2      0     0  So I'll preface by saying we did have an overa...   \n",
              "4       0      0     0  This place is a joke. Worst bar service ever. ...   \n",
              "\n",
              "                  date  \n",
              "0  2018-01-29 04:33:28  \n",
              "1  2011-01-10 03:10:49  \n",
              "2  2015-09-06 15:29:02  \n",
              "3  2015-09-14 00:49:17  \n",
              "4  2015-07-24 01:03:40  "
            ]
          },
          "execution_count": 3,
          "metadata": {},
          "output_type": "execute_result"
        }
      ],
      "source": [
        "print(\"Test set shape:\", df_test.shape)\n",
        "df_test.head(5)"
      ]
    },
    {
      "cell_type": "markdown",
      "id": "a398aac3",
      "metadata": {
        "id": "a398aac3"
      },
      "source": [
        "### Creamos dataset de train y test del DF_TRAIN"
      ]
    },
    {
      "cell_type": "code",
      "execution_count": 6,
      "id": "e0e8681c",
      "metadata": {
        "id": "e0e8681c"
      },
      "outputs": [],
      "source": [
        "X_train, X_val, y_train, y_val = train_test_split(df_train[\"text\"], df_train[\"stars\"], test_size=0.2, random_state=42)"
      ]
    },
    {
      "cell_type": "code",
      "execution_count": 7,
      "id": "mIWCMqrEmaTY",
      "metadata": {
        "colab": {
          "base_uri": "https://localhost:8080/"
        },
        "id": "mIWCMqrEmaTY",
        "outputId": "4f1626fb-f603-491b-9553-a7be5c2799c1"
      },
      "outputs": [
        {
          "name": "stdout",
          "output_type": "stream",
          "text": [
            "X_train shape: (774227,)\n",
            "X_val shape: (193557,)\n",
            "y_train shape: (774227,)\n",
            "y_val shape: (193557,)\n"
          ]
        }
      ],
      "source": [
        "print(\"X_train shape:\", X_train.shape)\n",
        "print(\"X_val shape:\", X_val.shape)\n",
        "print(\"y_train shape:\", y_train.shape)\n",
        "print(\"y_val shape:\", y_val.shape)"
      ]
    },
    {
      "cell_type": "code",
      "execution_count": 8,
      "id": "Z4ynZjILnAoP",
      "metadata": {
        "colab": {
          "base_uri": "https://localhost:8080/",
          "height": 241
        },
        "id": "Z4ynZjILnAoP",
        "outputId": "4004ec47-6d39-4f23-d18e-6527c6c4bd19"
      },
      "outputs": [
        {
          "data": {
            "text/html": [
              "<div>\n",
              "<style scoped>\n",
              "    .dataframe tbody tr th:only-of-type {\n",
              "        vertical-align: middle;\n",
              "    }\n",
              "\n",
              "    .dataframe tbody tr th {\n",
              "        vertical-align: top;\n",
              "    }\n",
              "\n",
              "    .dataframe thead th {\n",
              "        text-align: right;\n",
              "    }\n",
              "</style>\n",
              "<table border=\"1\" class=\"dataframe\">\n",
              "  <thead>\n",
              "    <tr style=\"text-align: right;\">\n",
              "      <th></th>\n",
              "      <th>text</th>\n",
              "    </tr>\n",
              "  </thead>\n",
              "  <tbody>\n",
              "    <tr>\n",
              "      <th>300516</th>\n",
              "      <td>Love this place. Both times I came here, the c...</td>\n",
              "    </tr>\n",
              "    <tr>\n",
              "      <th>695208</th>\n",
              "      <td>Costa Vista  is outstanding and flavorful food...</td>\n",
              "    </tr>\n",
              "    <tr>\n",
              "      <th>921436</th>\n",
              "      <td>I'm a big fan. A friend showed me a pic of his...</td>\n",
              "    </tr>\n",
              "    <tr>\n",
              "      <th>397552</th>\n",
              "      <td>Great team of PTs, the staff is friendly and k...</td>\n",
              "    </tr>\n",
              "    <tr>\n",
              "      <th>953340</th>\n",
              "      <td>Do not sleep on them. If you are looking for a...</td>\n",
              "    </tr>\n",
              "  </tbody>\n",
              "</table>\n",
              "</div><br><label><b>dtype:</b> object</label>"
            ],
            "text/plain": [
              "300516    Love this place. Both times I came here, the c...\n",
              "695208    Costa Vista  is outstanding and flavorful food...\n",
              "921436    I'm a big fan. A friend showed me a pic of his...\n",
              "397552    Great team of PTs, the staff is friendly and k...\n",
              "953340    Do not sleep on them. If you are looking for a...\n",
              "Name: text, dtype: object"
            ]
          },
          "execution_count": 8,
          "metadata": {},
          "output_type": "execute_result"
        }
      ],
      "source": [
        "X_train.head(5)"
      ]
    },
    {
      "cell_type": "markdown",
      "id": "W6GoSBwMJ6f4",
      "metadata": {
        "id": "W6GoSBwMJ6f4"
      },
      "source": [
        "### Pasamos los textos a embeddings BERT"
      ]
    },
    {
      "cell_type": "code",
      "execution_count": 10,
      "id": "UHwzdG8LJ-pE",
      "metadata": {
        "colab": {
          "base_uri": "https://localhost:8080/"
        },
        "id": "UHwzdG8LJ-pE",
        "outputId": "76447d1b-9738-4d6a-867e-8587c9330593"
      },
      "outputs": [
        {
          "name": "stdout",
          "output_type": "stream",
          "text": [
            "cuda\n",
            "x_train\n",
            "x_val\n"
          ]
        }
      ],
      "source": [
        "from transformers import AutoTokenizer, AutoModel\n",
        "import torch\n",
        "\n",
        "# Carga del modelo y tokenizer\n",
        "model_name = \"bert-base-uncased\"\n",
        "tokenizer = AutoTokenizer.from_pretrained(model_name)\n",
        "model_encoder = AutoModel.from_pretrained(model_name)\n",
        "device = torch.device(\"cuda\" if torch.cuda.is_available() else \"cpu\")\n",
        "print(device)\n",
        "model_encoder.to(device)\n",
        "model_encoder.eval()  # desactiva dropout\n",
        "\n",
        "# Función de mean pooling\n",
        "def mean_pooling(model_output, attention_mask):\n",
        "    token_embeddings = model_output.last_hidden_state  # (batch, seq_len, hidden)\n",
        "    input_mask_expanded = attention_mask.unsqueeze(-1).expand(token_embeddings.size()).float()\n",
        "    return torch.sum(token_embeddings * input_mask_expanded, 1) / input_mask_expanded.sum(1)\n",
        "\n",
        "# Función para procesar textos en batches\n",
        "def encode_texts(texts, batch_size=32):\n",
        "    all_embeddings = []\n",
        "    for i in range(0, len(texts), batch_size):\n",
        "        batch_texts = texts[i:i+batch_size]\n",
        "        inputs = tokenizer(batch_texts, return_tensors='pt', padding=True, truncation=True, max_length=128)\n",
        "        inputs = {k: v.to(device) for k, v in inputs.items()}  # Mover a GPU/CPU\n",
        "\n",
        "        with torch.no_grad():\n",
        "            outputs = model_encoder(**inputs)\n",
        "            embeddings = mean_pooling(outputs, inputs['attention_mask'])\n",
        "\n",
        "        all_embeddings.append(embeddings.cpu())  # Guardar siempre en CPU\n",
        "    return torch.cat(all_embeddings)\n",
        "\n",
        "# Aplicar a tus datos\n",
        "print(\"x_train\")\n",
        "X_train = encode_texts(X_train.tolist())\n",
        "print(\"x_val\")\n",
        "X_val = encode_texts(X_val.tolist())\n"
      ]
    },
    {
      "cell_type": "code",
      "execution_count": 14,
      "id": "2SFMhAg8dLL3",
      "metadata": {
        "colab": {
          "base_uri": "https://localhost:8080/"
        },
        "id": "2SFMhAg8dLL3",
        "outputId": "61b80915-0fb9-4725-93bb-d6f86d9f529b"
      },
      "outputs": [
        {
          "name": "stdout",
          "output_type": "stream",
          "text": [
            "💾 Guardando train en 'X_train.npy'\n",
            "💾 Guardando val en 'X_val.npy'\n"
          ]
        }
      ],
      "source": [
        "print(\"💾 Guardando train en 'X_train.npy'\")\n",
        "np.save(\"X_train.npy\", X_train)\n",
        "np.save(\"y_train.npy\", np.array(y_train))  # Guarda etiquetas alineadas\n",
        "\n",
        "print(\"💾 Guardando val en 'X_val.npy'\")\n",
        "np.save(\"X_val.npy\", X_val)\n",
        "np.save(\"y_val.npy\", np.array(y_val))  # Guarda etiquetas alineadas"
      ]
    },
    {
      "cell_type": "markdown",
      "id": "gkHlCTKo_NPf",
      "metadata": {
        "id": "gkHlCTKo_NPf"
      },
      "source": [
        "### Entrenamos una red neuronal en keras (35 epochs)"
      ]
    },
    {
      "cell_type": "code",
      "execution_count": null,
      "id": "2a8cbd78",
      "metadata": {},
      "outputs": [
        {
          "name": "stdout",
          "output_type": "stream",
          "text": [
            "✅ Todos los datasets fueron cargados correctamente.\n"
          ]
        }
      ],
      "source": [
        "import os\n",
        "\n",
        "# Ruta al directorio donde están los .npy\n",
        "base_path = r\"./BERT_embeddings_datasets\"\n",
        "\n",
        "# Cargar los datasets\n",
        "X_train = np.load(os.path.join(base_path, \"X_train.npy\"))\n",
        "y_train = np.load(os.path.join(base_path, \"y_train.npy\"))\n",
        "\n",
        "X_val = np.load(os.path.join(base_path, \"X_val.npy\"))\n",
        "y_val = np.load(os.path.join(base_path, \"y_val.npy\"))\n",
        "\n",
        "print(\"✅ Todos los datasets fueron cargados correctamente.\")\n"
      ]
    },
    {
      "cell_type": "code",
      "execution_count": null,
      "id": "fT_4keZUmBeI",
      "metadata": {
        "colab": {
          "base_uri": "https://localhost:8080/",
          "height": 254
        },
        "id": "fT_4keZUmBeI",
        "outputId": "4dad105d-0a88-4f91-9816-a16d982f8cc1"
      },
      "outputs": [
        {
          "name": "stdout",
          "output_type": "stream",
          "text": [
            "input_dim: 768\n"
          ]
        },
        {
          "name": "stderr",
          "output_type": "stream",
          "text": [
            "c:\\Users\\mgonz\\anaconda3\\envs\\recsys\\Lib\\site-packages\\keras\\src\\layers\\core\\dense.py:87: UserWarning: Do not pass an `input_shape`/`input_dim` argument to a layer. When using Sequential models, prefer using an `Input(shape)` object as the first layer in the model instead.\n",
            "  super().__init__(activity_regularizer=activity_regularizer, **kwargs)\n"
          ]
        },
        {
          "name": "stdout",
          "output_type": "stream",
          "text": [
            "Epoch 1/50\n",
            "\u001b[1m12098/12098\u001b[0m \u001b[32m━━━━━━━━━━━━━━━━━━━━\u001b[0m\u001b[37m\u001b[0m \u001b[1m29s\u001b[0m 2ms/step - loss: 0.9873 - mae: 0.7399 - val_loss: 0.7922 - val_mae: 0.7102\n",
            "Epoch 2/50\n",
            "\u001b[1m12098/12098\u001b[0m \u001b[32m━━━━━━━━━━━━━━━━━━━━\u001b[0m\u001b[37m\u001b[0m \u001b[1m25s\u001b[0m 2ms/step - loss: 0.5864 - mae: 0.5604 - val_loss: 0.5512 - val_mae: 0.5683\n",
            "Epoch 3/50\n",
            "\u001b[1m12098/12098\u001b[0m \u001b[32m━━━━━━━━━━━━━━━━━━━━\u001b[0m\u001b[37m\u001b[0m \u001b[1m25s\u001b[0m 2ms/step - loss: 0.5425 - mae: 0.5319 - val_loss: 0.5123 - val_mae: 0.5194\n",
            "Epoch 4/50\n",
            "\u001b[1m12098/12098\u001b[0m \u001b[32m━━━━━━━━━━━━━━━━━━━━\u001b[0m\u001b[37m\u001b[0m \u001b[1m25s\u001b[0m 2ms/step - loss: 0.5197 - mae: 0.5141 - val_loss: 0.5014 - val_mae: 0.5103\n",
            "Epoch 5/50\n",
            "\u001b[1m12098/12098\u001b[0m \u001b[32m━━━━━━━━━━━━━━━━━━━━\u001b[0m\u001b[37m\u001b[0m \u001b[1m26s\u001b[0m 2ms/step - loss: 0.5093 - mae: 0.5049 - val_loss: 0.4985 - val_mae: 0.5162\n",
            "Epoch 6/50\n",
            "\u001b[1m12098/12098\u001b[0m \u001b[32m━━━━━━━━━━━━━━━━━━━━\u001b[0m\u001b[37m\u001b[0m \u001b[1m26s\u001b[0m 2ms/step - loss: 0.4992 - mae: 0.4976 - val_loss: 0.4906 - val_mae: 0.5032\n",
            "Epoch 7/50\n",
            "\u001b[1m12098/12098\u001b[0m \u001b[32m━━━━━━━━━━━━━━━━━━━━\u001b[0m\u001b[37m\u001b[0m \u001b[1m27s\u001b[0m 2ms/step - loss: 0.4944 - mae: 0.4926 - val_loss: 0.4899 - val_mae: 0.5071\n",
            "Epoch 8/50\n",
            "\u001b[1m12098/12098\u001b[0m \u001b[32m━━━━━━━━━━━━━━━━━━━━\u001b[0m\u001b[37m\u001b[0m \u001b[1m26s\u001b[0m 2ms/step - loss: 0.4881 - mae: 0.4878 - val_loss: 0.4859 - val_mae: 0.4800\n",
            "Epoch 9/50\n",
            "\u001b[1m12098/12098\u001b[0m \u001b[32m━━━━━━━━━━━━━━━━━━━━\u001b[0m\u001b[37m\u001b[0m \u001b[1m27s\u001b[0m 2ms/step - loss: 0.4830 - mae: 0.4837 - val_loss: 0.4923 - val_mae: 0.4995\n",
            "Epoch 10/50\n",
            "\u001b[1m12098/12098\u001b[0m \u001b[32m━━━━━━━━━━━━━━━━━━━━\u001b[0m\u001b[37m\u001b[0m \u001b[1m28s\u001b[0m 2ms/step - loss: 0.4790 - mae: 0.4812 - val_loss: 0.4805 - val_mae: 0.4878\n",
            "Epoch 11/50\n",
            "\u001b[1m12098/12098\u001b[0m \u001b[32m━━━━━━━━━━━━━━━━━━━━\u001b[0m\u001b[37m\u001b[0m \u001b[1m27s\u001b[0m 2ms/step - loss: 0.4737 - mae: 0.4785 - val_loss: 0.4751 - val_mae: 0.4892\n",
            "Epoch 12/50\n",
            "\u001b[1m12098/12098\u001b[0m \u001b[32m━━━━━━━━━━━━━━━━━━━━\u001b[0m\u001b[37m\u001b[0m \u001b[1m28s\u001b[0m 2ms/step - loss: 0.4692 - mae: 0.4757 - val_loss: 0.4810 - val_mae: 0.4671\n",
            "Epoch 13/50\n",
            "\u001b[1m12098/12098\u001b[0m \u001b[32m━━━━━━━━━━━━━━━━━━━━\u001b[0m\u001b[37m\u001b[0m \u001b[1m27s\u001b[0m 2ms/step - loss: 0.4670 - mae: 0.4746 - val_loss: 0.4789 - val_mae: 0.4906\n",
            "Epoch 14/50\n",
            "\u001b[1m12098/12098\u001b[0m \u001b[32m━━━━━━━━━━━━━━━━━━━━\u001b[0m\u001b[37m\u001b[0m \u001b[1m27s\u001b[0m 2ms/step - loss: 0.4635 - mae: 0.4724 - val_loss: 0.4770 - val_mae: 0.4941\n",
            "Epoch 15/50\n",
            "\u001b[1m12098/12098\u001b[0m \u001b[32m━━━━━━━━━━━━━━━━━━━━\u001b[0m\u001b[37m\u001b[0m \u001b[1m27s\u001b[0m 2ms/step - loss: 0.4622 - mae: 0.4720 - val_loss: 0.4710 - val_mae: 0.4796\n",
            "Epoch 16/50\n",
            "\u001b[1m12098/12098\u001b[0m \u001b[32m━━━━━━━━━━━━━━━━━━━━\u001b[0m\u001b[37m\u001b[0m \u001b[1m27s\u001b[0m 2ms/step - loss: 0.4598 - mae: 0.4704 - val_loss: 0.4712 - val_mae: 0.4762\n",
            "Epoch 17/50\n",
            "\u001b[1m12098/12098\u001b[0m \u001b[32m━━━━━━━━━━━━━━━━━━━━\u001b[0m\u001b[37m\u001b[0m \u001b[1m27s\u001b[0m 2ms/step - loss: 0.4547 - mae: 0.4681 - val_loss: 0.4722 - val_mae: 0.4617\n",
            "Epoch 18/50\n",
            "\u001b[1m12098/12098\u001b[0m \u001b[32m━━━━━━━━━━━━━━━━━━━━\u001b[0m\u001b[37m\u001b[0m \u001b[1m27s\u001b[0m 2ms/step - loss: 0.4535 - mae: 0.4665 - val_loss: 0.4779 - val_mae: 0.5021\n",
            "Epoch 19/50\n",
            "\u001b[1m12098/12098\u001b[0m \u001b[32m━━━━━━━━━━━━━━━━━━━━\u001b[0m\u001b[37m\u001b[0m \u001b[1m27s\u001b[0m 2ms/step - loss: 0.4525 - mae: 0.4660 - val_loss: 0.4711 - val_mae: 0.4747\n",
            "Epoch 20/50\n",
            "\u001b[1m12098/12098\u001b[0m \u001b[32m━━━━━━━━━━━━━━━━━━━━\u001b[0m\u001b[37m\u001b[0m \u001b[1m27s\u001b[0m 2ms/step - loss: 0.4513 - mae: 0.4656 - val_loss: 0.4778 - val_mae: 0.4681\n",
            "Epoch 21/50\n",
            "\u001b[1m12098/12098\u001b[0m \u001b[32m━━━━━━━━━━━━━━━━━━━━\u001b[0m\u001b[37m\u001b[0m \u001b[1m28s\u001b[0m 2ms/step - loss: 0.4496 - mae: 0.4646 - val_loss: 0.4683 - val_mae: 0.4815\n",
            "Epoch 22/50\n",
            "\u001b[1m12098/12098\u001b[0m \u001b[32m━━━━━━━━━━━━━━━━━━━━\u001b[0m\u001b[37m\u001b[0m \u001b[1m27s\u001b[0m 2ms/step - loss: 0.4452 - mae: 0.4624 - val_loss: 0.4700 - val_mae: 0.4684\n",
            "Epoch 23/50\n",
            "\u001b[1m12098/12098\u001b[0m \u001b[32m━━━━━━━━━━━━━━━━━━━━\u001b[0m\u001b[37m\u001b[0m \u001b[1m28s\u001b[0m 2ms/step - loss: 0.4468 - mae: 0.4626 - val_loss: 0.4671 - val_mae: 0.4706\n",
            "Epoch 24/50\n",
            "\u001b[1m12098/12098\u001b[0m \u001b[32m━━━━━━━━━━━━━━━━━━━━\u001b[0m\u001b[37m\u001b[0m \u001b[1m27s\u001b[0m 2ms/step - loss: 0.4432 - mae: 0.4613 - val_loss: 0.4696 - val_mae: 0.4656\n",
            "Epoch 25/50\n",
            "\u001b[1m12098/12098\u001b[0m \u001b[32m━━━━━━━━━━━━━━━━━━━━\u001b[0m\u001b[37m\u001b[0m \u001b[1m27s\u001b[0m 2ms/step - loss: 0.4414 - mae: 0.4603 - val_loss: 0.4666 - val_mae: 0.4645\n",
            "Epoch 26/50\n",
            "\u001b[1m12098/12098\u001b[0m \u001b[32m━━━━━━━━━━━━━━━━━━━━\u001b[0m\u001b[37m\u001b[0m \u001b[1m27s\u001b[0m 2ms/step - loss: 0.4385 - mae: 0.4587 - val_loss: 0.4687 - val_mae: 0.4720\n",
            "Epoch 27/50\n",
            "\u001b[1m12098/12098\u001b[0m \u001b[32m━━━━━━━━━━━━━━━━━━━━\u001b[0m\u001b[37m\u001b[0m \u001b[1m27s\u001b[0m 2ms/step - loss: 0.4375 - mae: 0.4586 - val_loss: 0.4707 - val_mae: 0.4562\n",
            "Epoch 28/50\n",
            "\u001b[1m12098/12098\u001b[0m \u001b[32m━━━━━━━━━━━━━━━━━━━━\u001b[0m\u001b[37m\u001b[0m \u001b[1m27s\u001b[0m 2ms/step - loss: 0.4357 - mae: 0.4574 - val_loss: 0.4671 - val_mae: 0.4530\n",
            "Epoch 29/50\n",
            "\u001b[1m12098/12098\u001b[0m \u001b[32m━━━━━━━━━━━━━━━━━━━━\u001b[0m\u001b[37m\u001b[0m \u001b[1m27s\u001b[0m 2ms/step - loss: 0.4343 - mae: 0.4568 - val_loss: 0.4662 - val_mae: 0.4618\n",
            "Epoch 30/50\n",
            "\u001b[1m12098/12098\u001b[0m \u001b[32m━━━━━━━━━━━━━━━━━━━━\u001b[0m\u001b[37m\u001b[0m \u001b[1m27s\u001b[0m 2ms/step - loss: 0.4330 - mae: 0.4559 - val_loss: 0.4700 - val_mae: 0.4829\n",
            "Epoch 31/50\n",
            "\u001b[1m12098/12098\u001b[0m \u001b[32m━━━━━━━━━━━━━━━━━━━━\u001b[0m\u001b[37m\u001b[0m \u001b[1m27s\u001b[0m 2ms/step - loss: 0.4290 - mae: 0.4539 - val_loss: 0.4690 - val_mae: 0.4706\n",
            "Epoch 32/50\n",
            "\u001b[1m12098/12098\u001b[0m \u001b[32m━━━━━━━━━━━━━━━━━━━━\u001b[0m\u001b[37m\u001b[0m \u001b[1m27s\u001b[0m 2ms/step - loss: 0.4290 - mae: 0.4542 - val_loss: 0.4688 - val_mae: 0.4636\n",
            "Epoch 33/50\n",
            "\u001b[1m12098/12098\u001b[0m \u001b[32m━━━━━━━━━━━━━━━━━━━━\u001b[0m\u001b[37m\u001b[0m \u001b[1m28s\u001b[0m 2ms/step - loss: 0.4259 - mae: 0.4523 - val_loss: 0.4673 - val_mae: 0.4636\n",
            "Epoch 34/50\n",
            "\u001b[1m12098/12098\u001b[0m \u001b[32m━━━━━━━━━━━━━━━━━━━━\u001b[0m\u001b[37m\u001b[0m \u001b[1m27s\u001b[0m 2ms/step - loss: 0.4274 - mae: 0.4529 - val_loss: 0.4665 - val_mae: 0.4661\n",
            "Epoch 35/50\n",
            "\u001b[1m12098/12098\u001b[0m \u001b[32m━━━━━━━━━━━━━━━━━━━━\u001b[0m\u001b[37m\u001b[0m \u001b[1m27s\u001b[0m 2ms/step - loss: 0.4244 - mae: 0.4515 - val_loss: 0.4688 - val_mae: 0.4674\n",
            "Epoch 36/50\n",
            "\u001b[1m12098/12098\u001b[0m \u001b[32m━━━━━━━━━━━━━━━━━━━━\u001b[0m\u001b[37m\u001b[0m \u001b[1m28s\u001b[0m 2ms/step - loss: 0.4259 - mae: 0.4524 - val_loss: 0.4662 - val_mae: 0.4609\n",
            "Epoch 37/50\n",
            "\u001b[1m12098/12098\u001b[0m \u001b[32m━━━━━━━━━━━━━━━━━━━━\u001b[0m\u001b[37m\u001b[0m \u001b[1m28s\u001b[0m 2ms/step - loss: 0.4204 - mae: 0.4500 - val_loss: 0.4675 - val_mae: 0.4768\n",
            "Epoch 38/50\n",
            "\u001b[1m12098/12098\u001b[0m \u001b[32m━━━━━━━━━━━━━━━━━━━━\u001b[0m\u001b[37m\u001b[0m \u001b[1m28s\u001b[0m 2ms/step - loss: 0.4225 - mae: 0.4508 - val_loss: 0.4704 - val_mae: 0.4626\n",
            "Epoch 39/50\n",
            "\u001b[1m12098/12098\u001b[0m \u001b[32m━━━━━━━━━━━━━━━━━━━━\u001b[0m\u001b[37m\u001b[0m \u001b[1m28s\u001b[0m 2ms/step - loss: 0.4190 - mae: 0.4495 - val_loss: 0.4678 - val_mae: 0.4692\n",
            "Epoch 40/50\n",
            "\u001b[1m12098/12098\u001b[0m \u001b[32m━━━━━━━━━━━━━━━━━━━━\u001b[0m\u001b[37m\u001b[0m \u001b[1m28s\u001b[0m 2ms/step - loss: 0.4219 - mae: 0.4508 - val_loss: 0.4682 - val_mae: 0.4718\n",
            "Epoch 41/50\n",
            "\u001b[1m12098/12098\u001b[0m \u001b[32m━━━━━━━━━━━━━━━━━━━━\u001b[0m\u001b[37m\u001b[0m \u001b[1m28s\u001b[0m 2ms/step - loss: 0.4188 - mae: 0.4491 - val_loss: 0.4699 - val_mae: 0.4625\n",
            "Epoch 42/50\n",
            "\u001b[1m12098/12098\u001b[0m \u001b[32m━━━━━━━━━━━━━━━━━━━━\u001b[0m\u001b[37m\u001b[0m \u001b[1m29s\u001b[0m 2ms/step - loss: 0.4154 - mae: 0.4479 - val_loss: 0.4694 - val_mae: 0.4792\n",
            "Epoch 43/50\n",
            "\u001b[1m12098/12098\u001b[0m \u001b[32m━━━━━━━━━━━━━━━━━━━━\u001b[0m\u001b[37m\u001b[0m \u001b[1m29s\u001b[0m 2ms/step - loss: 0.4147 - mae: 0.4476 - val_loss: 0.4667 - val_mae: 0.4621\n",
            "Epoch 44/50\n",
            "\u001b[1m12098/12098\u001b[0m \u001b[32m━━━━━━━━━━━━━━━━━━━━\u001b[0m\u001b[37m\u001b[0m \u001b[1m30s\u001b[0m 2ms/step - loss: 0.4146 - mae: 0.4468 - val_loss: 0.4685 - val_mae: 0.4560\n",
            "Epoch 45/50\n",
            "\u001b[1m12098/12098\u001b[0m \u001b[32m━━━━━━━━━━━━━━━━━━━━\u001b[0m\u001b[37m\u001b[0m \u001b[1m29s\u001b[0m 2ms/step - loss: 0.4124 - mae: 0.4448 - val_loss: 0.4723 - val_mae: 0.4758\n",
            "Epoch 46/50\n",
            "\u001b[1m12098/12098\u001b[0m \u001b[32m━━━━━━━━━━━━━━━━━━━━\u001b[0m\u001b[37m\u001b[0m \u001b[1m29s\u001b[0m 2ms/step - loss: 0.4133 - mae: 0.4462 - val_loss: 0.4687 - val_mae: 0.4574\n",
            "Epoch 47/50\n",
            "\u001b[1m12098/12098\u001b[0m \u001b[32m━━━━━━━━━━━━━━━━━━━━\u001b[0m\u001b[37m\u001b[0m \u001b[1m29s\u001b[0m 2ms/step - loss: 0.4146 - mae: 0.4469 - val_loss: 0.4676 - val_mae: 0.4601\n",
            "Epoch 48/50\n",
            "\u001b[1m12098/12098\u001b[0m \u001b[32m━━━━━━━━━━━━━━━━━━━━\u001b[0m\u001b[37m\u001b[0m \u001b[1m29s\u001b[0m 2ms/step - loss: 0.4127 - mae: 0.4460 - val_loss: 0.4694 - val_mae: 0.4597\n",
            "Epoch 49/50\n",
            "\u001b[1m12098/12098\u001b[0m \u001b[32m━━━━━━━━━━━━━━━━━━━━\u001b[0m\u001b[37m\u001b[0m \u001b[1m29s\u001b[0m 2ms/step - loss: 0.4105 - mae: 0.4450 - val_loss: 0.4677 - val_mae: 0.4709\n",
            "Epoch 50/50\n",
            "\u001b[1m12098/12098\u001b[0m \u001b[32m━━━━━━━━━━━━━━━━━━━━\u001b[0m\u001b[37m\u001b[0m \u001b[1m29s\u001b[0m 2ms/step - loss: 0.4085 - mae: 0.4440 - val_loss: 0.4734 - val_mae: 0.4784\n"
          ]
        }
      ],
      "source": [
        "\n",
        "input_dim = X_train.shape[1]\n",
        "print(\"input_dim:\", input_dim)\n",
        "\n",
        "# Definir el modelo\n",
        "model_tt = Sequential([\n",
        "    Dense(256, activation='relu', input_shape=(input_dim,)),\n",
        "    # Dense(256, activation='relu'),\n",
        "    Dropout(0.3),\n",
        "    Dense(128, activation='relu'),\n",
        "    Dropout(0.2),\n",
        "    Dense(64, activation='relu'),\n",
        "    # Dropout(0.3),\n",
        "    # Dense(32, activation='relu'),\n",
        "    Dense(1, activation='linear')  # Regresión\n",
        "])\n",
        "\n",
        "# Compilar el modelo\n",
        "model_tt.compile(\n",
        "    optimizer=Adam(learning_rate=1e-4),\n",
        "    loss='mse',\n",
        "    metrics=['mae']\n",
        ")\n",
        "\n",
        "# Entrenar\n",
        "history =model_tt.fit(\n",
        "    X_train, y_train,\n",
        "    validation_data=(X_val, y_val),\n",
        "    epochs=35,\n",
        "    batch_size=64\n",
        ")\n"
      ]
    },
    {
      "cell_type": "code",
      "execution_count": 45,
      "id": "W__JBRqXmCBJ",
      "metadata": {
        "colab": {
          "base_uri": "https://localhost:8080/"
        },
        "id": "W__JBRqXmCBJ",
        "outputId": "a0cb5c97-e09e-479d-81b8-363bd6d3f91f"
      },
      "outputs": [
        {
          "name": "stdout",
          "output_type": "stream",
          "text": [
            "\u001b[1m6049/6049\u001b[0m \u001b[32m━━━━━━━━━━━━━━━━━━━━\u001b[0m\u001b[37m\u001b[0m \u001b[1m4s\u001b[0m 671us/step\n",
            "📊 Métricas de regresión:\n",
            " - RMSE: 0.4734\n",
            " - MAE: 0.4784\n",
            " - R²: 0.7836\n",
            " - Accuracy (puntuaciones redondeadas): 0.6646\n"
          ]
        },
        {
          "data": {
            "image/png": "[encoded data removed]",
            "text/plain": [
              "<Figure size 1000x500 with 1 Axes>"
            ]
          },
          "metadata": {},
          "output_type": "display_data"
        },
        {
          "data": {
            "image/png": "[encoded data removed]",
            "text/plain": [
              "<Figure size 1000x500 with 1 Axes>"
            ]
          },
          "metadata": {},
          "output_type": "display_data"
        }
      ],
      "source": [
        "# Predicción\n",
        "y_pred = model_tt.predict(X_val)\n",
        "\n",
        "# Métricas de regresión\n",
        "rmse = mean_squared_error(y_val, y_pred)\n",
        "mae = mean_absolute_error(y_val, y_pred)\n",
        "r2 = r2_score(y_val, y_pred)\n",
        "\n",
        "print(\"📊 Métricas de regresión:\")\n",
        "print(f\" - RMSE: {rmse:.4f}\")\n",
        "print(f\" - MAE: {mae:.4f}\")\n",
        "print(f\" - R²: {r2:.4f}\")\n",
        "\n",
        "# Redondear predicciones antes de comparar\n",
        "y_pred_rounded = np.round(y_pred).astype(int).astype(float)\n",
        "acc = accuracy_score(y_val, y_pred_rounded)\n",
        "print(f\" - Accuracy (puntuaciones redondeadas): {acc:.4f}\")\n",
        "\n",
        "# Acceder a los datos de la historia\n",
        "loss = history.history['loss']\n",
        "val_loss = history.history['val_loss']\n",
        "mae = history.history['mae']\n",
        "val_mae = history.history['val_mae']\n",
        "\n",
        "epochs_range = range(1, len(loss) + 1)\n",
        "\n",
        "# Gráfico de Loss\n",
        "plt.figure(figsize=(10, 5))\n",
        "plt.plot(epochs_range, loss, label='Train Loss')\n",
        "plt.plot(epochs_range, val_loss, label='Val Loss')\n",
        "plt.xlabel('Epochs')\n",
        "plt.ylabel('Loss (MSE)')\n",
        "plt.title('Training and Validation Loss')\n",
        "plt.legend()\n",
        "plt.grid(True)\n",
        "plt.show()\n",
        "\n",
        "# Gráfico de MAE\n",
        "plt.figure(figsize=(10, 5))\n",
        "plt.plot(epochs_range, mae, label='Train MAE')\n",
        "plt.plot(epochs_range, val_mae, label='Val MAE')\n",
        "plt.xlabel('Epochs')\n",
        "plt.ylabel('MAE')\n",
        "plt.title('Training and Validation MAE')\n",
        "plt.legend()\n",
        "plt.grid(True)\n",
        "plt.show()\n"
      ]
    },
    {
      "cell_type": "markdown",
      "id": "TUhECGhf_Zyh",
      "metadata": {
        "id": "TUhECGhf_Zyh"
      },
      "source": [
        "### Exportamos CSV con los resultados"
      ]
    },
    {
      "cell_type": "code",
      "execution_count": null,
      "id": "987055e2",
      "metadata": {},
      "outputs": [
        {
          "name": "stdout",
          "output_type": "stream",
          "text": [
            "✅ dataset X_test cargado correctamente.\n"
          ]
        }
      ],
      "source": [
        "X_test = np.load(os.path.join(base_path, \"X_test.npy\"))\n",
        "\n",
        "print(\"✅ dataset X_test cargado correctamente.\")"
      ]
    },
    {
      "cell_type": "code",
      "execution_count": null,
      "id": "FYi8Mv84mB-w",
      "metadata": {
        "colab": {
          "base_uri": "https://localhost:8080/"
        },
        "id": "FYi8Mv84mB-w",
        "outputId": "d8a11846-9f33-4090-d589-c87688b64404"
      },
      "outputs": [
        {
          "name": "stdout",
          "output_type": "stream",
          "text": [
            "\u001b[1m12962/12962\u001b[0m \u001b[32m━━━━━━━━━━━━━━━━━━━━\u001b[0m\u001b[37m\u001b[0m \u001b[1m8s\u001b[0m 633us/step\n",
            "✅ CSV generado con éxito.\n"
          ]
        }
      ],
      "source": [
        "# Paso 1: Extraer los textos y los IDs\n",
        "texts_test = df_test[\"text\"].tolist()\n",
        "review_ids = df_test[\"review_id\"].tolist()\n",
        "\n",
        "# Paso 2: Sacar embeddings (usando el mismo modelo que usaste para entrenamiento)\n",
        "# X_test_embeddings = encode_texts(texts_test)\n",
        "X_test_embeddings = X_test\n",
        "\n",
        "# Paso 3: Predecir puntuaciones con XGBoost\n",
        "y_pred_test = model_tt.predict(X_test_embeddings).flatten()  # Aseguramos que sea vector plano\n",
        "\n",
        "# Paso 4: Crear DataFrame con las predicciones\n",
        "df_predictions = pd.DataFrame({\n",
        "    \"review_id\": review_ids,\n",
        "    \"stars\": y_pred_test\n",
        "})\n",
        "\n",
        "# # Paso 5: Redondear si lo deseas (opcional)\n",
        "# df_predictions[\"stars\"] = df_predictions[\"stars\"].round(1)\n",
        "# Paso 5: Redondear a entero y forzar que termine en .0\n",
        "df_predictions[\"stars\"] = df_predictions[\"stars\"].round().astype(int).astype(float)\n",
        "\n",
        "\n",
        "# Paso 6: Exportar a CSV\n",
        "df_predictions.to_csv(\"predicciones_bert-base_keras-nn_best35.csv\", index=False)\n",
        "\n",
        "print(\"✅ CSV generado con éxito.\")\n"
      ]
    }
  ],
  "metadata": {
    "accelerator": "GPU",
    "colab": {
      "collapsed_sections": [
        "82d7ec95",
        "ba4bf3aa",
        "a398aac3",
        "lVBtgx3d_HsT",
        "gkHlCTKo_NPf",
        "TUhECGhf_Zyh",
        "ZWvgChMFDjnM",
        "Oa7cI19JDjnN",
        "jCHVPCSZDjnN"
      ],
      "gpuType": "T4",
      "provenance": []
    },
    "kernelspec": {
      "display_name": "recsys",
      "language": "python",
      "name": "python3"
    },
    "language_info": {
      "codemirror_mode": {
        "name": "ipython",
        "version": 3
      },
      "file_extension": ".py",
      "mimetype": "text/x-python",
      "name": "python",
      "nbconvert_exporter": "python",
      "pygments_lexer": "ipython3",
      "version": "3.12.9"
    }
  },
  "nbformat": 4,
  "nbformat_minor": 5
}
