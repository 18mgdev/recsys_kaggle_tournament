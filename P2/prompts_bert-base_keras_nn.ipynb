{
 "cells": [
  {
   "cell_type": "code",
   "execution_count": null,
   "id": "2e5d10e2",
   "metadata": {
    "id": "2e5d10e2",
    "tags": []
   },
   "outputs": [],
   "source": [
    "DATASETS_DIR = \"C:/Users/mgonz/Desktop/yelp/\"\n",
    "DATASETS_DIR = \"./\"\n",
    "import pandas as pd\n",
    "from sklearn.model_selection import train_test_split\n",
    "import numpy as np\n",
    "from sklearn.metrics import mean_squared_error, mean_absolute_error, r2_score, accuracy_score\n",
    "\n",
    "from transformers import AutoTokenizer, AutoModel\n",
    "import torch\n",
    "\n",
    "from tqdm import tqdm\n",
    "\n",
    "from tensorflow.keras.models import Sequential\n",
    "from tensorflow.keras.layers import Dense, Dropout\n",
    "from tensorflow.keras.optimizers import Adam"
   ]
  },
  {
   "cell_type": "code",
   "execution_count": null,
   "id": "dde1c8ad",
   "metadata": {
    "colab": {
     "base_uri": "https://localhost:8080/"
    },
    "id": "dde1c8ad",
    "outputId": "6b1bbd4c-cfae-4e81-c37d-2cdfe347b48c",
    "tags": []
   },
   "outputs": [],
   "source": [
    "df_train = pd.read_csv(DATASETS_DIR + \"train_reviews.csv\")\n",
    "df_test = pd.read_csv(DATASETS_DIR + \"test_reviews.csv\")\n",
    "df_users = pd.read_csv(DATASETS_DIR + \"usuarios.csv\")\n",
    "df_businesses = pd.read_csv(DATASETS_DIR + \"negocios.csv\")"
   ]
  },
  {
   "cell_type": "markdown",
   "id": "82d7ec95",
   "metadata": {
    "id": "82d7ec95",
    "jp-MarkdownHeadingCollapsed": true,
    "tags": []
   },
   "source": [
    "### df_train"
   ]
  },
  {
   "cell_type": "code",
   "execution_count": 3,
   "id": "6cf9fd0b",
   "metadata": {
    "colab": {
     "base_uri": "https://localhost:8080/",
     "height": 0
    },
    "id": "6cf9fd0b",
    "outputId": "389af499-e256-4d4f-8829-7ada7328a2d1",
    "tags": []
   },
   "outputs": [
    {
     "name": "stdout",
     "output_type": "stream",
     "text": [
      "Train set shape: (967784, 9)\n"
     ]
    },
    {
     "data": {
      "text/html": [
       "<div>\n",
       "<style scoped>\n",
       "    .dataframe tbody tr th:only-of-type {\n",
       "        vertical-align: middle;\n",
       "    }\n",
       "\n",
       "    .dataframe tbody tr th {\n",
       "        vertical-align: top;\n",
       "    }\n",
       "\n",
       "    .dataframe thead th {\n",
       "        text-align: right;\n",
       "    }\n",
       "</style>\n",
       "<table border=\"1\" class=\"dataframe\">\n",
       "  <thead>\n",
       "    <tr style=\"text-align: right;\">\n",
       "      <th></th>\n",
       "      <th>review_id</th>\n",
       "      <th>user_id</th>\n",
       "      <th>business_id</th>\n",
       "      <th>stars</th>\n",
       "      <th>useful</th>\n",
       "      <th>funny</th>\n",
       "      <th>cool</th>\n",
       "      <th>text</th>\n",
       "      <th>date</th>\n",
       "    </tr>\n",
       "  </thead>\n",
       "  <tbody>\n",
       "    <tr>\n",
       "      <th>0</th>\n",
       "      <td>ZZO43qKB-s65zplC8RfJqw</td>\n",
       "      <td>-1BSu2dt_rOAqllw9ZDXtA</td>\n",
       "      <td>smkZq4G1AOm4V6p3id5sww</td>\n",
       "      <td>5.0</td>\n",
       "      <td>0</td>\n",
       "      <td>0</td>\n",
       "      <td>0</td>\n",
       "      <td>Fantastic fresh food. The greek salad is amazi...</td>\n",
       "      <td>2016-09-30 15:49:32</td>\n",
       "    </tr>\n",
       "    <tr>\n",
       "      <th>1</th>\n",
       "      <td>vojXOF_VOgvuKD95gCO8_Q</td>\n",
       "      <td>xpe178ng_gj5X6HgqtOing</td>\n",
       "      <td>96_c_7twb7hYRZ9HHrq01g</td>\n",
       "      <td>1.0</td>\n",
       "      <td>2</td>\n",
       "      <td>0</td>\n",
       "      <td>1</td>\n",
       "      <td>Been a patient at Largo Med/Diagnostic Clinic ...</td>\n",
       "      <td>2020-12-09 14:39:51</td>\n",
       "    </tr>\n",
       "    <tr>\n",
       "      <th>2</th>\n",
       "      <td>KwxdbiseRlIRNzpgvyjY0Q</td>\n",
       "      <td>axbaerf2Fk92OB4b9_peVA</td>\n",
       "      <td>e0AYjKfSF0DL-5C1CpOq6Q</td>\n",
       "      <td>4.0</td>\n",
       "      <td>0</td>\n",
       "      <td>0</td>\n",
       "      <td>0</td>\n",
       "      <td>The location is convenient to my campus so I d...</td>\n",
       "      <td>2013-09-04 16:19:51</td>\n",
       "    </tr>\n",
       "    <tr>\n",
       "      <th>3</th>\n",
       "      <td>3mwoBcTy-2gMh0L91uaIeA</td>\n",
       "      <td>_GOiybb0rImYKJfwyxEaGg</td>\n",
       "      <td>vF-uptiQ34pVLHJKzPHUlA</td>\n",
       "      <td>5.0</td>\n",
       "      <td>0</td>\n",
       "      <td>0</td>\n",
       "      <td>0</td>\n",
       "      <td>I agree with all the other compliments posted ...</td>\n",
       "      <td>2019-03-02 12:24:14</td>\n",
       "    </tr>\n",
       "    <tr>\n",
       "      <th>4</th>\n",
       "      <td>XfWf7XsBWs3kYyYq7Ns1ZQ</td>\n",
       "      <td>ojWKg3B5pH3ncAsxun3kUw</td>\n",
       "      <td>X28XK71RuEXPapeyUOwNzg</td>\n",
       "      <td>5.0</td>\n",
       "      <td>10</td>\n",
       "      <td>4</td>\n",
       "      <td>7</td>\n",
       "      <td>Wanting to help out the local economy, I thoug...</td>\n",
       "      <td>2020-04-23 18:26:29</td>\n",
       "    </tr>\n",
       "  </tbody>\n",
       "</table>\n",
       "</div>"
      ],
      "text/plain": [
       "                review_id                 user_id             business_id  \\\n",
       "0  ZZO43qKB-s65zplC8RfJqw  -1BSu2dt_rOAqllw9ZDXtA  smkZq4G1AOm4V6p3id5sww   \n",
       "1  vojXOF_VOgvuKD95gCO8_Q  xpe178ng_gj5X6HgqtOing  96_c_7twb7hYRZ9HHrq01g   \n",
       "2  KwxdbiseRlIRNzpgvyjY0Q  axbaerf2Fk92OB4b9_peVA  e0AYjKfSF0DL-5C1CpOq6Q   \n",
       "3  3mwoBcTy-2gMh0L91uaIeA  _GOiybb0rImYKJfwyxEaGg  vF-uptiQ34pVLHJKzPHUlA   \n",
       "4  XfWf7XsBWs3kYyYq7Ns1ZQ  ojWKg3B5pH3ncAsxun3kUw  X28XK71RuEXPapeyUOwNzg   \n",
       "\n",
       "   stars  useful  funny  cool  \\\n",
       "0    5.0       0      0     0   \n",
       "1    1.0       2      0     1   \n",
       "2    4.0       0      0     0   \n",
       "3    5.0       0      0     0   \n",
       "4    5.0      10      4     7   \n",
       "\n",
       "                                                text                 date  \n",
       "0  Fantastic fresh food. The greek salad is amazi...  2016-09-30 15:49:32  \n",
       "1  Been a patient at Largo Med/Diagnostic Clinic ...  2020-12-09 14:39:51  \n",
       "2  The location is convenient to my campus so I d...  2013-09-04 16:19:51  \n",
       "3  I agree with all the other compliments posted ...  2019-03-02 12:24:14  \n",
       "4  Wanting to help out the local economy, I thoug...  2020-04-23 18:26:29  "
      ]
     },
     "execution_count": 3,
     "metadata": {},
     "output_type": "execute_result"
    }
   ],
   "source": [
    "print(\"Train set shape:\", df_train.shape)\n",
    "df_train.head(5)"
   ]
  },
  {
   "cell_type": "code",
   "execution_count": 4,
   "id": "af067e82",
   "metadata": {
    "colab": {
     "base_uri": "https://localhost:8080/"
    },
    "id": "af067e82",
    "outputId": "7624fe8a-ad3b-4829-d4f0-39aa2f6aec51",
    "tags": []
   },
   "outputs": [
    {
     "data": {
      "text/plain": [
       "array([5., 1., 4., 2., 3.])"
      ]
     },
     "execution_count": 4,
     "metadata": {},
     "output_type": "execute_result"
    }
   ],
   "source": [
    "df_train[\"stars\"].unique()"
   ]
  },
  {
   "cell_type": "markdown",
   "id": "ba4bf3aa",
   "metadata": {
    "id": "ba4bf3aa",
    "jp-MarkdownHeadingCollapsed": true,
    "tags": []
   },
   "source": [
    "### df_test"
   ]
  },
  {
   "cell_type": "code",
   "execution_count": 5,
   "id": "61504790",
   "metadata": {
    "colab": {
     "base_uri": "https://localhost:8080/",
     "height": 0
    },
    "id": "61504790",
    "outputId": "4f9f2468-006f-4669-c1b4-c5e082f152db",
    "tags": []
   },
   "outputs": [
    {
     "name": "stdout",
     "output_type": "stream",
     "text": [
      "Test set shape: (414765, 8)\n"
     ]
    },
    {
     "data": {
      "text/html": [
       "<div>\n",
       "<style scoped>\n",
       "    .dataframe tbody tr th:only-of-type {\n",
       "        vertical-align: middle;\n",
       "    }\n",
       "\n",
       "    .dataframe tbody tr th {\n",
       "        vertical-align: top;\n",
       "    }\n",
       "\n",
       "    .dataframe thead th {\n",
       "        text-align: right;\n",
       "    }\n",
       "</style>\n",
       "<table border=\"1\" class=\"dataframe\">\n",
       "  <thead>\n",
       "    <tr style=\"text-align: right;\">\n",
       "      <th></th>\n",
       "      <th>review_id</th>\n",
       "      <th>user_id</th>\n",
       "      <th>business_id</th>\n",
       "      <th>useful</th>\n",
       "      <th>funny</th>\n",
       "      <th>cool</th>\n",
       "      <th>text</th>\n",
       "      <th>date</th>\n",
       "    </tr>\n",
       "  </thead>\n",
       "  <tbody>\n",
       "    <tr>\n",
       "      <th>0</th>\n",
       "      <td>ieYPmCImINjPzTDFmEKBKA</td>\n",
       "      <td>79F9QrQSet-b1yRCIM243Q</td>\n",
       "      <td>sXSUzImYOcRRI3xtG2M85g</td>\n",
       "      <td>1</td>\n",
       "      <td>0</td>\n",
       "      <td>1</td>\n",
       "      <td>Amazing coffee and chill atmosphere. The staff...</td>\n",
       "      <td>2018-01-29 04:33:28</td>\n",
       "    </tr>\n",
       "    <tr>\n",
       "      <th>1</th>\n",
       "      <td>QIkJ8fZ4yx_QaHahWWszAA</td>\n",
       "      <td>chuM6TBkFHtTwJ6z96Hj1A</td>\n",
       "      <td>Ipt9ga67vVC_2ob3YmVwNA</td>\n",
       "      <td>4</td>\n",
       "      <td>0</td>\n",
       "      <td>2</td>\n",
       "      <td>I pass by this joint every time I make a run t...</td>\n",
       "      <td>2011-01-10 03:10:49</td>\n",
       "    </tr>\n",
       "    <tr>\n",
       "      <th>2</th>\n",
       "      <td>seR2KhblYMWg-k9zzN6aYA</td>\n",
       "      <td>hF68a0mpu97u0oaryFYhyg</td>\n",
       "      <td>_RG4IByyBR528CMc7DefJA</td>\n",
       "      <td>2</td>\n",
       "      <td>0</td>\n",
       "      <td>0</td>\n",
       "      <td>Came here when my kitten got very sick by the ...</td>\n",
       "      <td>2015-09-06 15:29:02</td>\n",
       "    </tr>\n",
       "    <tr>\n",
       "      <th>3</th>\n",
       "      <td>BToo00Fi5pfJFA5MI2HM5g</td>\n",
       "      <td>G4yX5Q1tFfwSucFOmiyjdA</td>\n",
       "      <td>xxlbRiWWQkk-6LST3Hd12g</td>\n",
       "      <td>2</td>\n",
       "      <td>0</td>\n",
       "      <td>0</td>\n",
       "      <td>So I'll preface by saying we did have an overa...</td>\n",
       "      <td>2015-09-14 00:49:17</td>\n",
       "    </tr>\n",
       "    <tr>\n",
       "      <th>4</th>\n",
       "      <td>FHJAzi1imodBit3RWK7zQA</td>\n",
       "      <td>Srqi1xb7exdB9uRHxDeEkw</td>\n",
       "      <td>LgGqdFLD7-ca0Z9F_q4Fuw</td>\n",
       "      <td>0</td>\n",
       "      <td>0</td>\n",
       "      <td>0</td>\n",
       "      <td>This place is a joke. Worst bar service ever. ...</td>\n",
       "      <td>2015-07-24 01:03:40</td>\n",
       "    </tr>\n",
       "  </tbody>\n",
       "</table>\n",
       "</div>"
      ],
      "text/plain": [
       "                review_id                 user_id             business_id  \\\n",
       "0  ieYPmCImINjPzTDFmEKBKA  79F9QrQSet-b1yRCIM243Q  sXSUzImYOcRRI3xtG2M85g   \n",
       "1  QIkJ8fZ4yx_QaHahWWszAA  chuM6TBkFHtTwJ6z96Hj1A  Ipt9ga67vVC_2ob3YmVwNA   \n",
       "2  seR2KhblYMWg-k9zzN6aYA  hF68a0mpu97u0oaryFYhyg  _RG4IByyBR528CMc7DefJA   \n",
       "3  BToo00Fi5pfJFA5MI2HM5g  G4yX5Q1tFfwSucFOmiyjdA  xxlbRiWWQkk-6LST3Hd12g   \n",
       "4  FHJAzi1imodBit3RWK7zQA  Srqi1xb7exdB9uRHxDeEkw  LgGqdFLD7-ca0Z9F_q4Fuw   \n",
       "\n",
       "   useful  funny  cool                                               text  \\\n",
       "0       1      0     1  Amazing coffee and chill atmosphere. The staff...   \n",
       "1       4      0     2  I pass by this joint every time I make a run t...   \n",
       "2       2      0     0  Came here when my kitten got very sick by the ...   \n",
       "3       2      0     0  So I'll preface by saying we did have an overa...   \n",
       "4       0      0     0  This place is a joke. Worst bar service ever. ...   \n",
       "\n",
       "                  date  \n",
       "0  2018-01-29 04:33:28  \n",
       "1  2011-01-10 03:10:49  \n",
       "2  2015-09-06 15:29:02  \n",
       "3  2015-09-14 00:49:17  \n",
       "4  2015-07-24 01:03:40  "
      ]
     },
     "execution_count": 5,
     "metadata": {},
     "output_type": "execute_result"
    }
   ],
   "source": [
    "print(\"Test set shape:\", df_test.shape)\n",
    "df_test.head(5)"
   ]
  },
  {
   "cell_type": "markdown",
   "id": "a398aac3",
   "metadata": {
    "id": "a398aac3",
    "jp-MarkdownHeadingCollapsed": true,
    "tags": []
   },
   "source": [
    "### Creamos dataset de train y test del DF_TRAIN"
   ]
  },
  {
   "cell_type": "code",
   "execution_count": 6,
   "id": "e0e8681c",
   "metadata": {
    "id": "e0e8681c",
    "tags": []
   },
   "outputs": [],
   "source": [
    "df_x_train, df_x_val, y_train, y_val = train_test_split(df_train.drop(columns=[\"stars\"]), df_train[\"stars\"], test_size=0.2, random_state=42)"
   ]
  },
  {
   "cell_type": "code",
   "execution_count": 7,
   "id": "mIWCMqrEmaTY",
   "metadata": {
    "colab": {
     "base_uri": "https://localhost:8080/"
    },
    "id": "mIWCMqrEmaTY",
    "outputId": "31099582-49bd-4779-814a-424a7ddc2a7e",
    "tags": []
   },
   "outputs": [
    {
     "name": "stdout",
     "output_type": "stream",
     "text": [
      "X_train shape: (774227, 8)\n",
      "X_val shape: (193557, 8)\n",
      "y_train shape: (774227,)\n",
      "y_val shape: (193557,)\n"
     ]
    }
   ],
   "source": [
    "print(\"X_train shape:\", df_x_train.shape)\n",
    "print(\"X_val shape:\", df_x_val.shape)\n",
    "print(\"y_train shape:\", y_train.shape)\n",
    "print(\"y_val shape:\", y_val.shape)"
   ]
  },
  {
   "cell_type": "code",
   "execution_count": 8,
   "id": "Z4ynZjILnAoP",
   "metadata": {
    "colab": {
     "base_uri": "https://localhost:8080/",
     "height": 206
    },
    "id": "Z4ynZjILnAoP",
    "outputId": "917ed711-a62e-4c46-b20e-803deb83507c",
    "tags": []
   },
   "outputs": [
    {
     "data": {
      "text/html": [
       "<div>\n",
       "<style scoped>\n",
       "    .dataframe tbody tr th:only-of-type {\n",
       "        vertical-align: middle;\n",
       "    }\n",
       "\n",
       "    .dataframe tbody tr th {\n",
       "        vertical-align: top;\n",
       "    }\n",
       "\n",
       "    .dataframe thead th {\n",
       "        text-align: right;\n",
       "    }\n",
       "</style>\n",
       "<table border=\"1\" class=\"dataframe\">\n",
       "  <thead>\n",
       "    <tr style=\"text-align: right;\">\n",
       "      <th></th>\n",
       "      <th>review_id</th>\n",
       "      <th>user_id</th>\n",
       "      <th>business_id</th>\n",
       "      <th>useful</th>\n",
       "      <th>funny</th>\n",
       "      <th>cool</th>\n",
       "      <th>text</th>\n",
       "      <th>date</th>\n",
       "    </tr>\n",
       "  </thead>\n",
       "  <tbody>\n",
       "    <tr>\n",
       "      <th>300516</th>\n",
       "      <td>VPhdXzdZOjQivhSbN_fwcQ</td>\n",
       "      <td>gqDbe1YwS4EhuCCNSNhpxg</td>\n",
       "      <td>Mzmt8AvZOExG_4h3MMlihg</td>\n",
       "      <td>0</td>\n",
       "      <td>0</td>\n",
       "      <td>0</td>\n",
       "      <td>Love this place. Both times I came here, the c...</td>\n",
       "      <td>2017-11-25 04:47:11</td>\n",
       "    </tr>\n",
       "    <tr>\n",
       "      <th>695208</th>\n",
       "      <td>mjowKxIX4Yq_wHfLeSM4nA</td>\n",
       "      <td>CjlI1Jqs9RGtfLIaH4vvtQ</td>\n",
       "      <td>yRs15dgEYvxGatbDyeVXiA</td>\n",
       "      <td>1</td>\n",
       "      <td>0</td>\n",
       "      <td>0</td>\n",
       "      <td>Costa Vista  is outstanding and flavorful food...</td>\n",
       "      <td>2020-10-13 03:15:17</td>\n",
       "    </tr>\n",
       "    <tr>\n",
       "      <th>921436</th>\n",
       "      <td>dny1-5ZqFZj8xTKlQZJQKA</td>\n",
       "      <td>Qjd7aIiKqnd68IfaR2EPoA</td>\n",
       "      <td>zXTO8GaLmRPATr505b4GQQ</td>\n",
       "      <td>7</td>\n",
       "      <td>1</td>\n",
       "      <td>8</td>\n",
       "      <td>I'm a big fan. A friend showed me a pic of his...</td>\n",
       "      <td>2018-09-29 01:33:27</td>\n",
       "    </tr>\n",
       "    <tr>\n",
       "      <th>397552</th>\n",
       "      <td>cde9T-0knSNa__eZWi3EFg</td>\n",
       "      <td>WikE3QVN3x5wpsagFvG06A</td>\n",
       "      <td>XdmaLMJE44rg75TYlOACVw</td>\n",
       "      <td>0</td>\n",
       "      <td>0</td>\n",
       "      <td>0</td>\n",
       "      <td>Great team of PTs, the staff is friendly and k...</td>\n",
       "      <td>2015-01-26 16:22:48</td>\n",
       "    </tr>\n",
       "    <tr>\n",
       "      <th>953340</th>\n",
       "      <td>UCKlMaxkAMQXGoQOxtUQ8Q</td>\n",
       "      <td>WJR8f_QNG1kuPq5V6RxeFA</td>\n",
       "      <td>I2Yt74AzSQFfyQqgN7PSEg</td>\n",
       "      <td>5</td>\n",
       "      <td>1</td>\n",
       "      <td>3</td>\n",
       "      <td>Do not sleep on them. If you are looking for a...</td>\n",
       "      <td>2013-11-12 01:37:42</td>\n",
       "    </tr>\n",
       "  </tbody>\n",
       "</table>\n",
       "</div>"
      ],
      "text/plain": [
       "                     review_id                 user_id  \\\n",
       "300516  VPhdXzdZOjQivhSbN_fwcQ  gqDbe1YwS4EhuCCNSNhpxg   \n",
       "695208  mjowKxIX4Yq_wHfLeSM4nA  CjlI1Jqs9RGtfLIaH4vvtQ   \n",
       "921436  dny1-5ZqFZj8xTKlQZJQKA  Qjd7aIiKqnd68IfaR2EPoA   \n",
       "397552  cde9T-0knSNa__eZWi3EFg  WikE3QVN3x5wpsagFvG06A   \n",
       "953340  UCKlMaxkAMQXGoQOxtUQ8Q  WJR8f_QNG1kuPq5V6RxeFA   \n",
       "\n",
       "                   business_id  useful  funny  cool  \\\n",
       "300516  Mzmt8AvZOExG_4h3MMlihg       0      0     0   \n",
       "695208  yRs15dgEYvxGatbDyeVXiA       1      0     0   \n",
       "921436  zXTO8GaLmRPATr505b4GQQ       7      1     8   \n",
       "397552  XdmaLMJE44rg75TYlOACVw       0      0     0   \n",
       "953340  I2Yt74AzSQFfyQqgN7PSEg       5      1     3   \n",
       "\n",
       "                                                     text                 date  \n",
       "300516  Love this place. Both times I came here, the c...  2017-11-25 04:47:11  \n",
       "695208  Costa Vista  is outstanding and flavorful food...  2020-10-13 03:15:17  \n",
       "921436  I'm a big fan. A friend showed me a pic of his...  2018-09-29 01:33:27  \n",
       "397552  Great team of PTs, the staff is friendly and k...  2015-01-26 16:22:48  \n",
       "953340  Do not sleep on them. If you are looking for a...  2013-11-12 01:37:42  "
      ]
     },
     "execution_count": 8,
     "metadata": {},
     "output_type": "execute_result"
    }
   ],
   "source": [
    "df_x_train.head(5)"
   ]
  },
  {
   "cell_type": "code",
   "execution_count": 9,
   "id": "xmfqpXye3g9p",
   "metadata": {
    "colab": {
     "base_uri": "https://localhost:8080/",
     "height": 206
    },
    "id": "xmfqpXye3g9p",
    "outputId": "3ae88fde-5495-4eef-922d-d9f080134a07",
    "tags": []
   },
   "outputs": [
    {
     "data": {
      "text/html": [
       "<div>\n",
       "<style scoped>\n",
       "    .dataframe tbody tr th:only-of-type {\n",
       "        vertical-align: middle;\n",
       "    }\n",
       "\n",
       "    .dataframe tbody tr th {\n",
       "        vertical-align: top;\n",
       "    }\n",
       "\n",
       "    .dataframe thead th {\n",
       "        text-align: right;\n",
       "    }\n",
       "</style>\n",
       "<table border=\"1\" class=\"dataframe\">\n",
       "  <thead>\n",
       "    <tr style=\"text-align: right;\">\n",
       "      <th></th>\n",
       "      <th>review_id</th>\n",
       "      <th>user_id</th>\n",
       "      <th>business_id</th>\n",
       "      <th>useful</th>\n",
       "      <th>funny</th>\n",
       "      <th>cool</th>\n",
       "      <th>text</th>\n",
       "      <th>date</th>\n",
       "    </tr>\n",
       "  </thead>\n",
       "  <tbody>\n",
       "    <tr>\n",
       "      <th>862357</th>\n",
       "      <td>dpFUVfEksk_kM3knXJyKpg</td>\n",
       "      <td>QW6SlfQXFMPIM_ayiZRkhQ</td>\n",
       "      <td>mi63FnVXGeGgasWxUSeRsA</td>\n",
       "      <td>0</td>\n",
       "      <td>0</td>\n",
       "      <td>0</td>\n",
       "      <td>This was our second visit to Noble Crust and y...</td>\n",
       "      <td>2019-09-24 12:41:23</td>\n",
       "    </tr>\n",
       "    <tr>\n",
       "      <th>848879</th>\n",
       "      <td>0sazUYDnNHJWqKhbNhba9w</td>\n",
       "      <td>rD0LayQZv81BZkWcrK0dlw</td>\n",
       "      <td>8_I8oV3KPg5wKFYg5i3wdA</td>\n",
       "      <td>0</td>\n",
       "      <td>0</td>\n",
       "      <td>0</td>\n",
       "      <td>Called ahead to make sure we could be served. ...</td>\n",
       "      <td>2020-04-16 23:46:10</td>\n",
       "    </tr>\n",
       "    <tr>\n",
       "      <th>570332</th>\n",
       "      <td>UYGsjM8vhNkcJ6zAIiy-ng</td>\n",
       "      <td>xeK8j2kcxC9xL6eFQV5WWw</td>\n",
       "      <td>makMFAcU-TEeUPfJgdANZA</td>\n",
       "      <td>2</td>\n",
       "      <td>1</td>\n",
       "      <td>1</td>\n",
       "      <td>GO WOLFPACK!!!\\n\\nOk I am a fair-weather fan o...</td>\n",
       "      <td>2015-01-13 01:38:32</td>\n",
       "    </tr>\n",
       "    <tr>\n",
       "      <th>940147</th>\n",
       "      <td>_VHAe7-cnFf5LTbw5lkSpg</td>\n",
       "      <td>rceod_Lrve7bVTXsKfgIxQ</td>\n",
       "      <td>vIH8mShs03wkeIiW3qHUQg</td>\n",
       "      <td>0</td>\n",
       "      <td>0</td>\n",
       "      <td>0</td>\n",
       "      <td>I went here with my family and had pizza and t...</td>\n",
       "      <td>2015-10-24 14:41:55</td>\n",
       "    </tr>\n",
       "    <tr>\n",
       "      <th>317553</th>\n",
       "      <td>U4fyYCd4PKrcGjuIIxPV9A</td>\n",
       "      <td>sBTp3GPH2-YomCo-9-BWhw</td>\n",
       "      <td>TDKBPcViJQDMrdUm6a9XZA</td>\n",
       "      <td>3</td>\n",
       "      <td>0</td>\n",
       "      <td>2</td>\n",
       "      <td>We tried this place out for lunch the other da...</td>\n",
       "      <td>2015-01-27 04:24:14</td>\n",
       "    </tr>\n",
       "  </tbody>\n",
       "</table>\n",
       "</div>"
      ],
      "text/plain": [
       "                     review_id                 user_id  \\\n",
       "862357  dpFUVfEksk_kM3knXJyKpg  QW6SlfQXFMPIM_ayiZRkhQ   \n",
       "848879  0sazUYDnNHJWqKhbNhba9w  rD0LayQZv81BZkWcrK0dlw   \n",
       "570332  UYGsjM8vhNkcJ6zAIiy-ng  xeK8j2kcxC9xL6eFQV5WWw   \n",
       "940147  _VHAe7-cnFf5LTbw5lkSpg  rceod_Lrve7bVTXsKfgIxQ   \n",
       "317553  U4fyYCd4PKrcGjuIIxPV9A  sBTp3GPH2-YomCo-9-BWhw   \n",
       "\n",
       "                   business_id  useful  funny  cool  \\\n",
       "862357  mi63FnVXGeGgasWxUSeRsA       0      0     0   \n",
       "848879  8_I8oV3KPg5wKFYg5i3wdA       0      0     0   \n",
       "570332  makMFAcU-TEeUPfJgdANZA       2      1     1   \n",
       "940147  vIH8mShs03wkeIiW3qHUQg       0      0     0   \n",
       "317553  TDKBPcViJQDMrdUm6a9XZA       3      0     2   \n",
       "\n",
       "                                                     text                 date  \n",
       "862357  This was our second visit to Noble Crust and y...  2019-09-24 12:41:23  \n",
       "848879  Called ahead to make sure we could be served. ...  2020-04-16 23:46:10  \n",
       "570332  GO WOLFPACK!!!\\n\\nOk I am a fair-weather fan o...  2015-01-13 01:38:32  \n",
       "940147  I went here with my family and had pizza and t...  2015-10-24 14:41:55  \n",
       "317553  We tried this place out for lunch the other da...  2015-01-27 04:24:14  "
      ]
     },
     "execution_count": 9,
     "metadata": {},
     "output_type": "execute_result"
    }
   ],
   "source": [
    "df_x_val.head(5)"
   ]
  },
  {
   "cell_type": "markdown",
   "id": "W6GoSBwMJ6f4",
   "metadata": {
    "id": "W6GoSBwMJ6f4",
    "jp-MarkdownHeadingCollapsed": true,
    "tags": []
   },
   "source": [
    "### Pasamos los textos a embeddings BERT"
   ]
  },
  {
   "cell_type": "code",
   "execution_count": null,
   "id": "UHwzdG8LJ-pE",
   "metadata": {
    "colab": {
     "base_uri": "https://localhost:8080/",
     "height": 408
    },
    "id": "UHwzdG8LJ-pE",
    "outputId": "d64dbd4a-8498-40ff-fcd0-2d11efc3d438",
    "tags": []
   },
   "outputs": [
    {
     "name": "stdout",
     "output_type": "stream",
     "text": [
      "🖥️ Dispositivo: cpu\n"
     ]
    }
   ],
   "source": [
    "# ========== Carga del modelo ==========\n",
    "model_name = \"bert-base-uncased\"\n",
    "tokenizer = AutoTokenizer.from_pretrained(model_name)\n",
    "model_encoder = AutoModel.from_pretrained(model_name)\n",
    "device = torch.device(\"cuda\" if torch.cuda.is_available() else \"cpu\")\n",
    "print(\"🖥️ Dispositivo:\", device)\n",
    "model_encoder.to(device)\n",
    "model_encoder.eval()\n",
    "\n",
    "# ========== Pooling ==========\n",
    "def mean_pooling(model_output, attention_mask):\n",
    "    token_embeddings = model_output.last_hidden_state\n",
    "    input_mask_expanded = attention_mask.unsqueeze(-1).expand(token_embeddings.size()).float()\n",
    "    return torch.sum(token_embeddings * input_mask_expanded, 1) / input_mask_expanded.sum(1)\n",
    "\n",
    "# ========== Encoder ==========\n",
    "def encode_texts(texts, batch_size=32):\n",
    "    all_embeddings = []\n",
    "    for i in range(0, len(texts), batch_size):\n",
    "        batch_texts = texts[i:i+batch_size]\n",
    "        inputs = tokenizer(batch_texts, return_tensors='pt', padding=True, truncation=True, max_length=128)\n",
    "        inputs = {k: v.to(device) for k, v in inputs.items()}\n",
    "        with torch.no_grad():\n",
    "            outputs = model_encoder(**inputs)\n",
    "            embeddings = mean_pooling(outputs, inputs['attention_mask'])\n",
    "        all_embeddings.append(embeddings.cpu())\n",
    "    return torch.cat(all_embeddings)\n",
    "\n",
    "# ========== Generador de prompt individual ==========\n",
    "def generar_prompt_individual(user_id, business_id, review_text, df_users, df_businesses):\n",
    "    user_row = df_users[df_users[\"user_id\"] == user_id]\n",
    "    if user_row.empty:\n",
    "        user_info = \"User information not available.\"\n",
    "    else:\n",
    "        user_row = user_row.squeeze()\n",
    "        review_count = user_row.get(\"review_count\", \"unknown\")\n",
    "        yelping_since = user_row.get(\"yelping_since\", \"unknown\")\n",
    "        year = str(yelping_since).split(\"-\")[0] if pd.notna(yelping_since) else \"unknown\"\n",
    "        average_stars = user_row.get(\"average_stars\", \"unknown\")\n",
    "        fans = user_row.get(\"fans\", 0)\n",
    "        elite = user_row.get(\"elite\", \"\")\n",
    "        elite_text = f\"and has been elite in the years {elite}\" if pd.notna(elite) and elite else \"and has never been elite\"\n",
    "        fan_text = f\"and has {fans} fans\" if fans > 0 else \"and has no fans\"\n",
    "        user_info = (\n",
    "            f\"The user has written {review_count} reviews since {year}, \"\n",
    "            f\"has an average rating of {average_stars}, {fan_text}, {elite_text}.\"\n",
    "        )\n",
    "\n",
    "    business_row = df_businesses[df_businesses[\"business_id\"] == business_id]\n",
    "    if business_row.empty:\n",
    "        business_info = \"Business information not available.\"\n",
    "    else:\n",
    "        business_row = business_row.squeeze()\n",
    "        business_name = business_row.get(\"name\", \"unknown\")\n",
    "        categories = business_row.get(\"categories\", \"unknown\")\n",
    "        stars = business_row.get(\"stars\", \"unknown\")\n",
    "        review_count_business = business_row.get(\"review_count\", \"unknown\")\n",
    "        is_open = business_row.get(\"is_open\", 0)\n",
    "        status = \"open\" if is_open == 1 else \"closed\"\n",
    "        business_info = (\n",
    "            f\"About a business called {business_name}, categorized as {categories}, \"\n",
    "            f\"with an average rating of {stars} and {review_count_business} reviews. \"\n",
    "            f\"It is currently {status}.\"\n",
    "        )\n",
    "\n",
    "    review_part = f\"They commented: '{review_text.strip()}'\"\n",
    "    prompt = f\"{user_info} {review_part} {business_info}\"\n",
    "    return prompt\n",
    "\n",
    "# ========== Procesamiento completo con bucles ==========\n",
    "\n",
    "\n",
    "# -> TRAIN\n",
    "\n",
    "print(\"📝 Generando prompts de entrenamiento...\")\n",
    "X_train_text = []\n",
    "for _, row in tqdm(df_x_train.iterrows(), total=len(df_x_train), desc=\"Prompts entrenamiento\"):\n",
    "    prompt = generar_prompt_individual(row[\"user_id\"], row[\"business_id\"], row[\"text\"], df_users, df_businesses)\n",
    "    X_train_text.append(prompt)\n",
    "    \n",
    "\n",
    "    \n",
    "# Guardar los prompts en un CSV\n",
    "df_prompts_train = df_x_train.copy()\n",
    "df_prompts_train[\"prompt\"] = X_train_text\n",
    "\n",
    "df_prompts_train[[\"user_id\", \"business_id\", \"text\", \"prompt\"]].to_csv(\"prompts_entrenamiento.csv\", index=False)\n",
    "\n",
    "print(\"💾 Prompts de entrenamiento guardados en 'prompts_entrenamiento.csv'\")\n",
    "\n",
    "\n",
    "\n",
    "print(\"📐 Generando embeddings de entrenamiento...\")\n",
    "X_train = encode_texts(X_train_text)\n",
    "\n",
    "print(\"💾 Guardando train en 'X_train.npy'\")\n",
    "np.save(\"X_train.npy\", X_train)\n",
    "np.save(\"y_train.npy\", np.array(y_train))  # Guarda etiquetas alineadas\n",
    "\n",
    "\n",
    "\n",
    "\n",
    "# -> VALIDACION\n",
    "\n",
    "print(\"📝 Generando prompts de validación...\")\n",
    "X_val_text = []\n",
    "for _, row in tqdm(df_x_val.iterrows(), total=len(df_x_val), desc=\"Prompts validación\"):\n",
    "    prompt = generar_prompt_individual(row[\"user_id\"], row[\"business_id\"], row[\"text\"], df_users, df_businesses)\n",
    "    X_val_text.append(prompt)\n",
    "    \n",
    "    \n",
    "# Guardar los prompts de validación en un CSV\n",
    "df_prompts_val = df_x_val.copy()\n",
    "df_prompts_val[\"prompt\"] = X_val_text\n",
    "\n",
    "df_prompts_val[[\"user_id\", \"business_id\", \"text\", \"prompt\"]].to_csv(\"prompts_validacion.csv\", index=False)\n",
    "\n",
    "print(\"💾 Prompts de validación guardados en 'prompts_validacion.csv'\")\n",
    "\n",
    "\n",
    "\n",
    "\n",
    "print(\"📐 Generando embeddings de validación...\")\n",
    "X_val = encode_texts(X_val_text)\n",
    "\n",
    "print(\"💾 Guardando val en 'X_val.npy'\")\n",
    "np.save(\"X_val.npy\", X_val)\n",
    "np.save(\"y_val.npy\", np.array(y_val))  # Guarda etiquetas alineadas\n",
    "\n",
    "\n",
    "\n",
    "\n",
    "# -> TEST\n",
    "\n",
    "\n",
    "print(\"📝 Generando prompts de test...\")\n",
    "X_test_text = []\n",
    "for _, row in tqdm(df_test.iterrows(), total=len(df_test), desc=\"Prompts test\"):\n",
    "    prompt = generar_prompt_individual(row[\"user_id\"], row[\"business_id\"], row[\"text\"], df_users, df_businesses)\n",
    "    X_test_text.append(prompt)\n",
    "    \n",
    "\n",
    "    \n",
    "# Guardar los prompts en un CSV\n",
    "df_prompts_test = df_test.copy()\n",
    "df_prompts_test[\"prompt\"] = X_test_text\n",
    "\n",
    "df_prompts_test[[\"user_id\", \"business_id\", \"text\", \"prompt\"]].to_csv(\"prompts_test.csv\", index=False)\n",
    "\n",
    "print(\"💾 Prompts de test guardados en 'prompts_test.csv'\")\n",
    "\n",
    "print(\"📐 Generando embeddings de test...\")\n",
    "X_test = encode_texts(X_test_text)\n",
    "\n",
    "print(\"💾 Guardando test en 'X_test.npy'\")\n",
    "np.save(\"X_test.npy\", X_test)\n"
   ]
  },
  {
   "cell_type": "markdown",
   "id": "gkHlCTKo_NPf",
   "metadata": {
    "id": "gkHlCTKo_NPf"
   },
   "source": [
    "### Entrenamos una red neuronal en keras"
   ]
  },
  {
   "cell_type": "code",
   "execution_count": null,
   "id": "2a8cbd78",
   "metadata": {
    "id": "2a8cbd78"
   },
   "outputs": [],
   "source": [
    "import os\n",
    "\n",
    "# Ruta al directorio donde están los .npy\n",
    "base_path = r\"./BERT_embeddings_dataset2\"\n",
    "\n",
    "# Cargar los datasets\n",
    "X_train = np.load(os.path.join(base_path, \"X_train.npy\"))\n",
    "y_train = np.load(os.path.join(base_path, \"y_train.npy\"))\n",
    "\n",
    "X_val = np.load(os.path.join(base_path, \"X_val.npy\"))\n",
    "y_val = np.load(os.path.join(base_path, \"y_val.npy\"))\n",
    "\n",
    "X_test = np.load(os.path.join(base_path, \"X_test.npy\"))\n",
    "\n",
    "print(\"✅ Todos los datasets fueron cargados correctamente.\")"
   ]
  },
  {
   "cell_type": "code",
   "execution_count": null,
   "id": "fT_4keZUmBeI",
   "metadata": {
    "id": "fT_4keZUmBeI"
   },
   "outputs": [
    {
     "name": "stdout",
     "output_type": "stream",
     "text": [
      "input_dim: 768\n"
     ]
    },
    {
     "name": "stderr",
     "output_type": "stream",
     "text": [
      "/opt/conda/lib/python3.10/site-packages/keras/src/layers/core/dense.py:87: UserWarning: Do not pass an `input_shape`/`input_dim` argument to a layer. When using Sequential models, prefer using an `Input(shape)` object as the first layer in the model instead.\n",
      "  kernel_constraint: Constraint function applied to\n"
     ]
    },
    {
     "name": "stdout",
     "output_type": "stream",
     "text": [
      "Epoch 1/40\n",
      "\u001b[1m12098/12098\u001b[0m \u001b[32m━━━━━━━━━━━━━━━━━━━━\u001b[0m\u001b[37m\u001b[0m \u001b[1m81s\u001b[0m 7ms/step - loss: 1.0636 - mae: 0.7704 - val_loss: 0.6696 - val_mae: 0.6187\n",
      "Epoch 2/40\n",
      "\u001b[1m12098/12098\u001b[0m \u001b[32m━━━━━━━━━━━━━━━━━━━━\u001b[0m\u001b[37m\u001b[0m \u001b[1m80s\u001b[0m 7ms/step - loss: 0.6456 - mae: 0.5875 - val_loss: 0.5702 - val_mae: 0.5368\n",
      "Epoch 3/40\n",
      "\u001b[1m12098/12098\u001b[0m \u001b[32m━━━━━━━━━━━━━━━━━━━━\u001b[0m\u001b[37m\u001b[0m \u001b[1m83s\u001b[0m 7ms/step - loss: 0.5981 - mae: 0.5555 - val_loss: 0.5578 - val_mae: 0.5396\n",
      "Epoch 4/40\n",
      "\u001b[1m12098/12098\u001b[0m \u001b[32m━━━━━━━━━━━━━━━━━━━━\u001b[0m\u001b[37m\u001b[0m \u001b[1m80s\u001b[0m 7ms/step - loss: 0.5750 - mae: 0.5376 - val_loss: 0.5551 - val_mae: 0.5169\n",
      "Epoch 5/40\n",
      "\u001b[1m12098/12098\u001b[0m \u001b[32m━━━━━━━━━━━━━━━━━━━━\u001b[0m\u001b[37m\u001b[0m \u001b[1m76s\u001b[0m 6ms/step - loss: 0.5585 - mae: 0.5226 - val_loss: 0.5343 - val_mae: 0.5178\n",
      "Epoch 6/40\n",
      "\u001b[1m12098/12098\u001b[0m \u001b[32m━━━━━━━━━━━━━━━━━━━━\u001b[0m\u001b[37m\u001b[0m \u001b[1m82s\u001b[0m 7ms/step - loss: 0.5481 - mae: 0.5143 - val_loss: 0.5386 - val_mae: 0.5030\n",
      "Epoch 7/40\n",
      "\u001b[1m12098/12098\u001b[0m \u001b[32m━━━━━━━━━━━━━━━━━━━━\u001b[0m\u001b[37m\u001b[0m \u001b[1m80s\u001b[0m 7ms/step - loss: 0.5436 - mae: 0.5103 - val_loss: 0.5317 - val_mae: 0.5242\n",
      "Epoch 8/40\n",
      "\u001b[1m12098/12098\u001b[0m \u001b[32m━━━━━━━━━━━━━━━━━━━━\u001b[0m\u001b[37m\u001b[0m \u001b[1m78s\u001b[0m 6ms/step - loss: 0.5363 - mae: 0.5068 - val_loss: 0.5217 - val_mae: 0.4934\n",
      "Epoch 9/40\n",
      "\u001b[1m12098/12098\u001b[0m \u001b[32m━━━━━━━━━━━━━━━━━━━━\u001b[0m\u001b[37m\u001b[0m \u001b[1m79s\u001b[0m 7ms/step - loss: 0.5341 - mae: 0.5047 - val_loss: 0.5276 - val_mae: 0.5005\n",
      "Epoch 10/40\n",
      "\u001b[1m12098/12098\u001b[0m \u001b[32m━━━━━━━━━━━━━━━━━━━━\u001b[0m\u001b[37m\u001b[0m \u001b[1m85s\u001b[0m 7ms/step - loss: 0.5279 - mae: 0.5019 - val_loss: 0.5169 - val_mae: 0.4976\n",
      "Epoch 11/40\n",
      "\u001b[1m12098/12098\u001b[0m \u001b[32m━━━━━━━━━━━━━━━━━━━━\u001b[0m\u001b[37m\u001b[0m \u001b[1m82s\u001b[0m 7ms/step - loss: 0.5267 - mae: 0.5000 - val_loss: 0.5240 - val_mae: 0.4862\n",
      "Epoch 12/40\n",
      "\u001b[1m12098/12098\u001b[0m \u001b[32m━━━━━━━━━━━━━━━━━━━━\u001b[0m\u001b[37m\u001b[0m \u001b[1m80s\u001b[0m 7ms/step - loss: 0.5234 - mae: 0.4987 - val_loss: 0.5177 - val_mae: 0.5054\n",
      "Epoch 13/40\n",
      "\u001b[1m12098/12098\u001b[0m \u001b[32m━━━━━━━━━━━━━━━━━━━━\u001b[0m\u001b[37m\u001b[0m \u001b[1m79s\u001b[0m 7ms/step - loss: 0.5197 - mae: 0.4961 - val_loss: 0.5160 - val_mae: 0.4998\n",
      "Epoch 14/40\n",
      "\u001b[1m12098/12098\u001b[0m \u001b[32m━━━━━━━━━━━━━━━━━━━━\u001b[0m\u001b[37m\u001b[0m \u001b[1m80s\u001b[0m 7ms/step - loss: 0.5175 - mae: 0.4946 - val_loss: 0.5138 - val_mae: 0.4817\n",
      "Epoch 15/40\n",
      "\u001b[1m12098/12098\u001b[0m \u001b[32m━━━━━━━━━━━━━━━━━━━━\u001b[0m\u001b[37m\u001b[0m \u001b[1m88s\u001b[0m 7ms/step - loss: 0.5129 - mae: 0.4921 - val_loss: 0.5118 - val_mae: 0.4699\n",
      "Epoch 16/40\n",
      "\u001b[1m12098/12098\u001b[0m \u001b[32m━━━━━━━━━━━━━━━━━━━━\u001b[0m\u001b[37m\u001b[0m \u001b[1m87s\u001b[0m 7ms/step - loss: 0.5108 - mae: 0.4917 - val_loss: 0.5083 - val_mae: 0.4908\n",
      "Epoch 17/40\n",
      "\u001b[1m12098/12098\u001b[0m \u001b[32m━━━━━━━━━━━━━━━━━━━━\u001b[0m\u001b[37m\u001b[0m \u001b[1m80s\u001b[0m 7ms/step - loss: 0.5087 - mae: 0.4901 - val_loss: 0.5090 - val_mae: 0.4959\n",
      "Epoch 18/40\n",
      "\u001b[1m12098/12098\u001b[0m \u001b[32m━━━━━━━━━━━━━━━━━━━━\u001b[0m\u001b[37m\u001b[0m \u001b[1m82s\u001b[0m 7ms/step - loss: 0.5093 - mae: 0.4909 - val_loss: 0.5112 - val_mae: 0.4931\n",
      "Epoch 19/40\n",
      "\u001b[1m12098/12098\u001b[0m \u001b[32m━━━━━━━━━━━━━━━━━━━━\u001b[0m\u001b[37m\u001b[0m \u001b[1m84s\u001b[0m 7ms/step - loss: 0.5043 - mae: 0.4880 - val_loss: 0.5071 - val_mae: 0.4900\n",
      "Epoch 20/40\n",
      "\u001b[1m12098/12098\u001b[0m \u001b[32m━━━━━━━━━━━━━━━━━━━━\u001b[0m\u001b[37m\u001b[0m \u001b[1m79s\u001b[0m 7ms/step - loss: 0.5000 - mae: 0.4856 - val_loss: 0.5124 - val_mae: 0.4986\n",
      "Epoch 21/40\n",
      "\u001b[1m12098/12098\u001b[0m \u001b[32m━━━━━━━━━━━━━━━━━━━━\u001b[0m\u001b[37m\u001b[0m \u001b[1m79s\u001b[0m 7ms/step - loss: 0.5014 - mae: 0.4864 - val_loss: 0.5035 - val_mae: 0.4787\n",
      "Epoch 22/40\n",
      "\u001b[1m12098/12098\u001b[0m \u001b[32m━━━━━━━━━━━━━━━━━━━━\u001b[0m\u001b[37m\u001b[0m \u001b[1m80s\u001b[0m 7ms/step - loss: 0.5012 - mae: 0.4865 - val_loss: 0.5010 - val_mae: 0.4807\n",
      "Epoch 23/40\n",
      "\u001b[1m12098/12098\u001b[0m \u001b[32m━━━━━━━━━━━━━━━━━━━━\u001b[0m\u001b[37m\u001b[0m \u001b[1m79s\u001b[0m 7ms/step - loss: 0.4954 - mae: 0.4840 - val_loss: 0.5018 - val_mae: 0.4781\n",
      "Epoch 24/40\n",
      "\u001b[1m12098/12098\u001b[0m \u001b[32m━━━━━━━━━━━━━━━━━━━━\u001b[0m\u001b[37m\u001b[0m \u001b[1m82s\u001b[0m 7ms/step - loss: 0.4961 - mae: 0.4838 - val_loss: 0.5052 - val_mae: 0.4774\n",
      "Epoch 25/40\n",
      "\u001b[1m12098/12098\u001b[0m \u001b[32m━━━━━━━━━━━━━━━━━━━━\u001b[0m\u001b[37m\u001b[0m \u001b[1m79s\u001b[0m 7ms/step - loss: 0.4953 - mae: 0.4825 - val_loss: 0.5015 - val_mae: 0.4969\n",
      "Epoch 26/40\n",
      "\u001b[1m12098/12098\u001b[0m \u001b[32m━━━━━━━━━━━━━━━━━━━━\u001b[0m\u001b[37m\u001b[0m \u001b[1m80s\u001b[0m 7ms/step - loss: 0.4917 - mae: 0.4809 - val_loss: 0.5091 - val_mae: 0.4803\n",
      "Epoch 27/40\n",
      "\u001b[1m12098/12098\u001b[0m \u001b[32m━━━━━━━━━━━━━━━━━━━━\u001b[0m\u001b[37m\u001b[0m \u001b[1m82s\u001b[0m 7ms/step - loss: 0.4919 - mae: 0.4805 - val_loss: 0.5009 - val_mae: 0.4832\n",
      "Epoch 28/40\n",
      "\u001b[1m12098/12098\u001b[0m \u001b[32m━━━━━━━━━━━━━━━━━━━━\u001b[0m\u001b[37m\u001b[0m \u001b[1m80s\u001b[0m 7ms/step - loss: 0.4906 - mae: 0.4798 - val_loss: 0.5025 - val_mae: 0.4983\n",
      "Epoch 29/40\n",
      "\u001b[1m12098/12098\u001b[0m \u001b[32m━━━━━━━━━━━━━━━━━━━━\u001b[0m\u001b[37m\u001b[0m \u001b[1m79s\u001b[0m 7ms/step - loss: 0.4862 - mae: 0.4784 - val_loss: 0.4999 - val_mae: 0.4730\n",
      "Epoch 30/40\n",
      "\u001b[1m12098/12098\u001b[0m \u001b[32m━━━━━━━━━━━━━━━━━━━━\u001b[0m\u001b[37m\u001b[0m \u001b[1m81s\u001b[0m 7ms/step - loss: 0.4864 - mae: 0.4784 - val_loss: 0.5008 - val_mae: 0.4905\n",
      "Epoch 31/40\n",
      "\u001b[1m12098/12098\u001b[0m \u001b[32m━━━━━━━━━━━━━━━━━━━━\u001b[0m\u001b[37m\u001b[0m \u001b[1m82s\u001b[0m 7ms/step - loss: 0.4866 - mae: 0.4784 - val_loss: 0.4986 - val_mae: 0.4877\n",
      "Epoch 32/40\n",
      "\u001b[1m12098/12098\u001b[0m \u001b[32m━━━━━━━━━━━━━━━━━━━━\u001b[0m\u001b[37m\u001b[0m \u001b[1m79s\u001b[0m 7ms/step - loss: 0.4848 - mae: 0.4780 - val_loss: 0.4988 - val_mae: 0.4884\n",
      "Epoch 33/40\n",
      "\u001b[1m12098/12098\u001b[0m \u001b[32m━━━━━━━━━━━━━━━━━━━━\u001b[0m\u001b[37m\u001b[0m \u001b[1m76s\u001b[0m 6ms/step - loss: 0.4843 - mae: 0.4774 - val_loss: 0.4991 - val_mae: 0.4922\n",
      "Epoch 34/40\n",
      "\u001b[1m12098/12098\u001b[0m \u001b[32m━━━━━━━━━━━━━━━━━━━━\u001b[0m\u001b[37m\u001b[0m \u001b[1m77s\u001b[0m 6ms/step - loss: 0.4789 - mae: 0.4746 - val_loss: 0.5007 - val_mae: 0.4903\n",
      "Epoch 35/40\n",
      "\u001b[1m12098/12098\u001b[0m \u001b[32m━━━━━━━━━━━━━━━━━━━━\u001b[0m\u001b[37m\u001b[0m \u001b[1m78s\u001b[0m 6ms/step - loss: 0.4828 - mae: 0.4773 - val_loss: 0.4974 - val_mae: 0.4816\n",
      "Epoch 36/40\n",
      "\u001b[1m12098/12098\u001b[0m \u001b[32m━━━━━━━━━━━━━━━━━━━━\u001b[0m\u001b[37m\u001b[0m \u001b[1m79s\u001b[0m 7ms/step - loss: 0.4826 - mae: 0.4769 - val_loss: 0.4954 - val_mae: 0.4682\n",
      "Epoch 37/40\n",
      "\u001b[1m12098/12098\u001b[0m \u001b[32m━━━━━━━━━━━━━━━━━━━━\u001b[0m\u001b[37m\u001b[0m \u001b[1m79s\u001b[0m 6ms/step - loss: 0.4763 - mae: 0.4736 - val_loss: 0.4944 - val_mae: 0.4767\n",
      "Epoch 38/40\n",
      "\u001b[1m12098/12098\u001b[0m \u001b[32m━━━━━━━━━━━━━━━━━━━━\u001b[0m\u001b[37m\u001b[0m \u001b[1m84s\u001b[0m 7ms/step - loss: 0.4798 - mae: 0.4748 - val_loss: 0.4978 - val_mae: 0.4804\n",
      "Epoch 39/40\n",
      "\u001b[1m12098/12098\u001b[0m \u001b[32m━━━━━━━━━━━━━━━━━━━━\u001b[0m\u001b[37m\u001b[0m \u001b[1m87s\u001b[0m 7ms/step - loss: 0.4788 - mae: 0.4744 - val_loss: 0.5032 - val_mae: 0.4769\n",
      "Epoch 40/40\n",
      "\u001b[1m12098/12098\u001b[0m \u001b[32m━━━━━━━━━━━━━━━━━━━━\u001b[0m\u001b[37m\u001b[0m \u001b[1m87s\u001b[0m 7ms/step - loss: 0.4757 - mae: 0.4724 - val_loss: 0.5048 - val_mae: 0.4988\n"
     ]
    }
   ],
   "source": [
    "input_dim = X_train.shape[1]\n",
    "print(\"input_dim:\", input_dim)\n",
    "\n",
    "# Definir el modelo\n",
    "model_tt = Sequential([\n",
    "    Dense(256, activation='relu', input_shape=(input_dim,)),\n",
    "    # Dense(256, activation='relu'),\n",
    "    Dropout(0.3),\n",
    "    Dense(128, activation='relu'),\n",
    "    Dropout(0.2),\n",
    "    Dense(64, activation='relu'),\n",
    "    # Dropout(0.3),\n",
    "    # Dense(32, activation='relu'),\n",
    "    Dense(1, activation='linear')  # Regresión\n",
    "])\n",
    "\n",
    "# Compilar el modelo\n",
    "model_tt.compile(\n",
    "    optimizer=Adam(learning_rate=1e-4),\n",
    "    loss='mse',\n",
    "    metrics=['mae']\n",
    ")\n",
    "\n",
    "# Entrenar\n",
    "history =model_tt.fit(\n",
    "    X_train, y_train,\n",
    "    validation_data=(X_val, y_val),\n",
    "    epochs=40,\n",
    "    batch_size=64\n",
    ")\n",
    "\n",
    "model_tt.save(\"modelo_40.keras\")\n"
   ]
  },
  {
   "cell_type": "code",
   "execution_count": null,
   "id": "W__JBRqXmCBJ",
   "metadata": {
    "id": "W__JBRqXmCBJ"
   },
   "outputs": [
    {
     "name": "stdout",
     "output_type": "stream",
     "text": [
      "\u001b[1m6049/6049\u001b[0m \u001b[32m━━━━━━━━━━━━━━━━━━━━\u001b[0m\u001b[37m\u001b[0m \u001b[1m14s\u001b[0m 2ms/step\n",
      "📊 Métricas de regresión:\n",
      " - RMSE: 0.5048\n",
      " - MAE: 0.4988\n",
      " - R²: 0.7692\n",
      " - Accuracy (puntuaciones redondeadas): 0.6334\n"
     ]
    }
   ],
   "source": [
    "# Predicción\n",
    "y_pred = model_tt.predict(X_val)\n",
    "\n",
    "# Métricas de regresión\n",
    "rmse = mean_squared_error(y_val, y_pred)\n",
    "mae = mean_absolute_error(y_val, y_pred)\n",
    "r2 = r2_score(y_val, y_pred)\n",
    "\n",
    "print(\"📊 Métricas de regresión:\")\n",
    "print(f\" - RMSE: {rmse:.4f}\")\n",
    "print(f\" - MAE: {mae:.4f}\")\n",
    "print(f\" - R²: {r2:.4f}\")\n",
    "\n",
    "# Redondear predicciones antes de comparar\n",
    "y_pred_rounded = np.round(y_pred).astype(int).astype(float)\n",
    "acc = accuracy_score(y_val, y_pred_rounded)\n",
    "print(f\" - Accuracy (puntuaciones redondeadas): {acc:.4f}\")"
   ]
  },
  {
   "cell_type": "markdown",
   "id": "TUhECGhf_Zyh",
   "metadata": {
    "id": "TUhECGhf_Zyh"
   },
   "source": [
    "### Exportamos CSV con los resultados"
   ]
  },
  {
   "cell_type": "code",
   "execution_count": null,
   "id": "FYi8Mv84mB-w",
   "metadata": {
    "id": "FYi8Mv84mB-w"
   },
   "outputs": [
    {
     "name": "stdout",
     "output_type": "stream",
     "text": [
      "\u001b[1m12962/12962\u001b[0m \u001b[32m━━━━━━━━━━━━━━━━━━━━\u001b[0m\u001b[37m\u001b[0m \u001b[1m28s\u001b[0m 2ms/step\n",
      "✅ CSV generado con éxito.\n"
     ]
    }
   ],
   "source": [
    "# Paso 1: Extraer los textos y los IDs\n",
    "texts_test = df_test[\"text\"].tolist()\n",
    "review_ids = df_test[\"review_id\"].tolist()\n",
    "\n",
    "# Paso 2: Sacar embeddings (usando el mismo modelo que usaste para entrenamiento)\n",
    "# X_test_embeddings = encode_texts(texts_test)\n",
    "X_test_embeddings = X_test\n",
    "\n",
    "# Paso 3: Predecir puntuaciones con XGBoost\n",
    "y_pred_test = model_tt.predict(X_test_embeddings).flatten()  # Aseguramos que sea vector plano\n",
    "\n",
    "# Paso 4: Crear DataFrame con las predicciones\n",
    "df_predictions = pd.DataFrame({\n",
    "    \"review_id\": review_ids,\n",
    "    \"stars\": y_pred_test\n",
    "})\n",
    "\n",
    "# # Paso 5: Redondear si lo deseas (opcional)\n",
    "# df_predictions[\"stars\"] = df_predictions[\"stars\"].round(1)\n",
    "# Paso 5: Redondear a entero y forzar que termine en .0\n",
    "df_predictions[\"stars\"] = df_predictions[\"stars\"].round().astype(int).astype(float)\n",
    "\n",
    "\n",
    "# # Paso 6: Exportar a CSV\n",
    "df_predictions.to_csv(\"predicciones_bert-base_keras-nn_prompts.csv\", index=False)\n",
    "\n",
    "print(\"✅ CSV generado con éxito.\")"
   ]
  }
 ],
 "metadata": {
  "colab": {
   "collapsed_sections": [
    "82d7ec95",
    "ba4bf3aa",
    "a398aac3",
    "lVBtgx3d_HsT",
    "gkHlCTKo_NPf",
    "TUhECGhf_Zyh",
    "ZWvgChMFDjnM",
    "Oa7cI19JDjnN",
    "jCHVPCSZDjnN"
   ],
   "provenance": []
  },
  "environment": {
   "kernel": "python3",
   "name": "common-cpu.m128",
   "type": "gcloud",
   "uri": "us-docker.pkg.dev/deeplearning-platform-release/gcr.io/base-cpu:m128"
  },
  "kernelspec": {
   "display_name": "Python 3 (Local)",
   "language": "python",
   "name": "python3"
  },
  "language_info": {
   "codemirror_mode": {
    "name": "ipython",
    "version": 3
   },
   "file_extension": ".py",
   "mimetype": "text/x-python",
   "name": "python",
   "nbconvert_exporter": "python",
   "pygments_lexer": "ipython3",
   "version": "3.10.16"
  }
 },
 "nbformat": 4,
 "nbformat_minor": 5
}
