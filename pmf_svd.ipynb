{
 "cells": [
  {
   "cell_type": "code",
   "execution_count": 1,
   "metadata": {},
   "outputs": [],
   "source": [
    "# Celda 1: Carga de Librerías y Datos\n",
    "import pandas as pd\n",
    "import numpy as np\n",
    "from scipy.sparse import csr_matrix\n",
    "from sklearn.model_selection import train_test_split\n"
   ]
  },
  {
   "cell_type": "code",
   "execution_count": 2,
   "metadata": {},
   "outputs": [
    {
     "name": "stdout",
     "output_type": "stream",
     "text": [
      "Media global de ratings: 7.6047\n"
     ]
    }
   ],
   "source": [
    "train_data = pd.read_csv(\"data/train.csv\", sep=\",\")\n",
    "test_data = pd.read_csv(\"data/test.csv\", sep=\",\")\n",
    "\n",
    "global_mean = train_data['rating'].mean()\n",
    "print(f\"Media global de ratings: {global_mean:.4f}\")"
   ]
  },
  {
   "cell_type": "code",
   "execution_count": 3,
   "metadata": {},
   "outputs": [
    {
     "data": {
      "text/html": [
       "<div>\n",
       "<style scoped>\n",
       "    .dataframe tbody tr th:only-of-type {\n",
       "        vertical-align: middle;\n",
       "    }\n",
       "\n",
       "    .dataframe tbody tr th {\n",
       "        vertical-align: top;\n",
       "    }\n",
       "\n",
       "    .dataframe thead th {\n",
       "        text-align: right;\n",
       "    }\n",
       "</style>\n",
       "<table border=\"1\" class=\"dataframe\">\n",
       "  <thead>\n",
       "    <tr style=\"text-align: right;\">\n",
       "      <th></th>\n",
       "      <th>user</th>\n",
       "      <th>item</th>\n",
       "      <th>rating</th>\n",
       "    </tr>\n",
       "  </thead>\n",
       "  <tbody>\n",
       "    <tr>\n",
       "      <th>0</th>\n",
       "      <td>1</td>\n",
       "      <td>25715</td>\n",
       "      <td>7.0</td>\n",
       "    </tr>\n",
       "    <tr>\n",
       "      <th>1</th>\n",
       "      <td>1</td>\n",
       "      <td>25716</td>\n",
       "      <td>10.0</td>\n",
       "    </tr>\n",
       "    <tr>\n",
       "      <th>2</th>\n",
       "      <td>5</td>\n",
       "      <td>25851</td>\n",
       "      <td>9.0</td>\n",
       "    </tr>\n",
       "    <tr>\n",
       "      <th>3</th>\n",
       "      <td>6</td>\n",
       "      <td>25923</td>\n",
       "      <td>5.0</td>\n",
       "    </tr>\n",
       "    <tr>\n",
       "      <th>4</th>\n",
       "      <td>7</td>\n",
       "      <td>25924</td>\n",
       "      <td>6.0</td>\n",
       "    </tr>\n",
       "  </tbody>\n",
       "</table>\n",
       "</div>"
      ],
      "text/plain": [
       "   user   item  rating\n",
       "0     1  25715     7.0\n",
       "1     1  25716    10.0\n",
       "2     5  25851     9.0\n",
       "3     6  25923     5.0\n",
       "4     7  25924     6.0"
      ]
     },
     "execution_count": 3,
     "metadata": {},
     "output_type": "execute_result"
    }
   ],
   "source": [
    "train_data.head(5)"
   ]
  },
  {
   "cell_type": "code",
   "execution_count": 4,
   "metadata": {},
   "outputs": [
    {
     "data": {
      "text/html": [
       "<div>\n",
       "<style scoped>\n",
       "    .dataframe tbody tr th:only-of-type {\n",
       "        vertical-align: middle;\n",
       "    }\n",
       "\n",
       "    .dataframe tbody tr th {\n",
       "        vertical-align: top;\n",
       "    }\n",
       "\n",
       "    .dataframe thead th {\n",
       "        text-align: right;\n",
       "    }\n",
       "</style>\n",
       "<table border=\"1\" class=\"dataframe\">\n",
       "  <thead>\n",
       "    <tr style=\"text-align: right;\">\n",
       "      <th></th>\n",
       "      <th>ID</th>\n",
       "      <th>user</th>\n",
       "      <th>item</th>\n",
       "    </tr>\n",
       "  </thead>\n",
       "  <tbody>\n",
       "    <tr>\n",
       "      <th>0</th>\n",
       "      <td>0</td>\n",
       "      <td>8117</td>\n",
       "      <td>268</td>\n",
       "    </tr>\n",
       "    <tr>\n",
       "      <th>1</th>\n",
       "      <td>1</td>\n",
       "      <td>10512</td>\n",
       "      <td>24393</td>\n",
       "    </tr>\n",
       "    <tr>\n",
       "      <th>2</th>\n",
       "      <td>2</td>\n",
       "      <td>534</td>\n",
       "      <td>1334</td>\n",
       "    </tr>\n",
       "    <tr>\n",
       "      <th>3</th>\n",
       "      <td>3</td>\n",
       "      <td>10984</td>\n",
       "      <td>6550</td>\n",
       "    </tr>\n",
       "    <tr>\n",
       "      <th>4</th>\n",
       "      <td>4</td>\n",
       "      <td>9093</td>\n",
       "      <td>22128</td>\n",
       "    </tr>\n",
       "  </tbody>\n",
       "</table>\n",
       "</div>"
      ],
      "text/plain": [
       "   ID   user   item\n",
       "0   0   8117    268\n",
       "1   1  10512  24393\n",
       "2   2    534   1334\n",
       "3   3  10984   6550\n",
       "4   4   9093  22128"
      ]
     },
     "execution_count": 4,
     "metadata": {},
     "output_type": "execute_result"
    }
   ],
   "source": [
    "test_data.head(5)"
   ]
  },
  {
   "cell_type": "code",
   "execution_count": 5,
   "metadata": {},
   "outputs": [],
   "source": [
    "train_split, val_split = train_test_split(train_data, test_size=0.2, random_state=42)"
   ]
  },
  {
   "cell_type": "code",
   "execution_count": 6,
   "metadata": {},
   "outputs": [
    {
     "name": "stdout",
     "output_type": "stream",
     "text": [
      "Número de usuarios: 64356\n",
      "Número de ítems: 146015\n"
     ]
    }
   ],
   "source": [
    "# Obtener listas únicas de usuarios e ítems del conjunto de entrenamiento\n",
    "unique_users = train_split['user'].unique()\n",
    "unique_items = train_split['item'].unique()\n",
    "\n",
    "# Crear índices para usuarios e ítems\n",
    "user_to_index = {user: idx for idx, user in enumerate(unique_users)}\n",
    "item_to_index = {item: idx for idx, item in enumerate(unique_items)}\n",
    "\n",
    "# Dimensiones de la matriz de ratings\n",
    "num_users = len(unique_users)\n",
    "num_items = len(unique_items)\n",
    "\n",
    "print(f\"Número de usuarios: {num_users}\")\n",
    "print(f\"Número de ítems: {num_items}\")"
   ]
  },
  {
   "cell_type": "code",
   "execution_count": 7,
   "metadata": {},
   "outputs": [
    {
     "name": "stdout",
     "output_type": "stream",
     "text": [
      "Matriz dispersa creada con dimensiones: (64356, 146015)\n",
      "Número de ratings no nulos en la matriz: 312280\n"
     ]
    }
   ],
   "source": [
    "from scipy.sparse import csr_matrix\n",
    "\n",
    "# Crear la matriz dispersa solo con el conjunto de entrenamiento\n",
    "rows = train_split['user'].map(user_to_index).values\n",
    "cols = train_split['item'].map(item_to_index).values\n",
    "ratings = train_split['rating'].values\n",
    "\n",
    "R_sparse = csr_matrix((ratings, (rows, cols)), shape=(num_users, num_items))\n",
    "\n",
    "print(f\"Matriz dispersa creada con dimensiones: {R_sparse.shape}\")\n",
    "print(\"Número de ratings no nulos en la matriz:\", R_sparse.nnz)"
   ]
  },
  {
   "cell_type": "code",
   "execution_count": 8,
   "metadata": {},
   "outputs": [
    {
     "name": "stdout",
     "output_type": "stream",
     "text": [
      "Factores latentes inicializados: U ((64356, 20)), V ((146015, 20))\n",
      "Sesgos inicializados: bu ((64356,)), bi ((146015,))\n"
     ]
    }
   ],
   "source": [
    "# Celda 3: Inicialización de Parámetros y Factores Latentes con Bias\n",
    "# Hiperparámetros\n",
    "k = 20  # Número de factores latentes\n",
    "lambda_ = 0.02  # Regularización\n",
    "learning_rate = 0.002  # Tasa de aprendizaje\n",
    "num_epochs = 50  # Número de iteraciones\n",
    "\n",
    "# Media global de ratings\n",
    "mu = global_mean\n",
    "\n",
    "# Inicialización aleatoria de las matrices latentes U y V\n",
    "U = np.random.normal(scale=1./k, size=(num_users, k))\n",
    "V = np.random.normal(scale=1./k, size=(num_items, k))\n",
    "\n",
    "# Inicialización de sesgos\n",
    "bu = np.zeros(num_users)\n",
    "bi = np.zeros(num_items)\n",
    "\n",
    "print(f\"Factores latentes inicializados: U ({U.shape}), V ({V.shape})\")\n",
    "print(f\"Sesgos inicializados: bu ({bu.shape}), bi ({bi.shape})\")\n"
   ]
  },
  {
   "cell_type": "code",
   "execution_count": 9,
   "metadata": {},
   "outputs": [],
   "source": [
    "# Celda 4: Función de Entrenamiento PMF con Bias\n",
    "def train_pmf_with_bias(R_sparse, U, V, bu, bi, mu, lambda_, lr, num_epochs):\n",
    "    rows, cols = R_sparse.nonzero()\n",
    "    num_ratings = len(rows)\n",
    "\n",
    "    for epoch in range(num_epochs):\n",
    "        total_cost = 0\n",
    "        for idx in range(num_ratings):\n",
    "            i = rows[idx]  # Usuario\n",
    "            j = cols[idx]  # Ítem\n",
    "            r_ij = R_sparse[i, j]\n",
    "\n",
    "            # Predicción incluyendo el sesgo\n",
    "            pred_ij = mu + bu[i] + bi[j] + np.dot(U[i, :], V[j, :])\n",
    "            error = r_ij - pred_ij\n",
    "\n",
    "            # Actualización de los factores latentes y sesgos\n",
    "            bu[i] += lr * (error - lambda_ * bu[i])\n",
    "            bi[j] += lr * (error - lambda_ * bi[j])\n",
    "            U[i, :] += lr * (error * V[j, :] - lambda_ * U[i, :])\n",
    "            V[j, :] += lr * (error * U[i, :] - lambda_ * V[j, :])\n",
    "\n",
    "            # Costo regularizado\n",
    "            total_cost += error**2 + (lambda_ / 2) * (np.linalg.norm(U[i, :])**2 + np.linalg.norm(V[j, :])**2 + bu[i]**2 + bi[j]**2)\n",
    "\n",
    "        print(f\"Época {epoch + 1}/{num_epochs} - Costo total: {total_cost:.4f}\")\n",
    "\n",
    "    return U, V, bu, bi"
   ]
  },
  {
   "cell_type": "code",
   "execution_count": null,
   "metadata": {},
   "outputs": [
    {
     "name": "stdout",
     "output_type": "stream",
     "text": [
      "Iniciando entrenamiento PMF...\n",
      "Época 1/50 - Costo total: 1014701.2292\n",
      "Época 2/50 - Costo total: 964541.8732\n",
      "Época 3/50 - Costo total: 934966.5709\n",
      "Época 4/50 - Costo total: 912992.2588\n",
      "Época 5/50 - Costo total: 895160.9416\n",
      "Época 6/50 - Costo total: 879979.5402\n",
      "Época 7/50 - Costo total: 866656.0488\n",
      "Época 8/50 - Costo total: 854713.3280\n",
      "Época 9/50 - Costo total: 843838.8148\n",
      "Época 10/50 - Costo total: 833815.1179\n",
      "Época 11/50 - Costo total: 824483.6860\n",
      "Época 12/50 - Costo total: 815723.9468\n",
      "Época 13/50 - Costo total: 807440.4262\n",
      "Época 14/50 - Costo total: 799554.2844\n",
      "Época 15/50 - Costo total: 791997.4445\n",
      "Época 16/50 - Costo total: 784708.3726\n",
      "Época 17/50 - Costo total: 777629.1126\n",
      "Época 18/50 - Costo total: 770703.5952\n",
      "Época 19/50 - Costo total: 763877.6368\n",
      "Época 20/50 - Costo total: 757101.3541\n",
      "Época 21/50 - Costo total: 750334.7130\n",
      "Época 22/50 - Costo total: 743556.1149\n",
      "Época 23/50 - Costo total: 736771.8305\n",
      "Época 24/50 - Costo total: 730021.1815\n",
      "Época 25/50 - Costo total: 723371.0913\n",
      "Época 26/50 - Costo total: 716897.5888\n",
      "Época 27/50 - Costo total: 710660.9408\n",
      "Época 28/50 - Costo total: 704687.7047\n",
      "Época 29/50 - Costo total: 698968.7991\n",
      "Época 30/50 - Costo total: 693470.9454\n",
      "Época 31/50 - Costo total: 688151.5797\n",
      "Época 32/50 - Costo total: 682969.5738\n",
      "Época 33/50 - Costo total: 677890.0862\n",
      "Época 34/50 - Costo total: 672885.4233\n",
      "Época 35/50 - Costo total: 667934.1624\n",
      "Época 36/50 - Costo total: 663019.8965\n",
      "Época 37/50 - Costo total: 658130.1427\n",
      "Época 38/50 - Costo total: 653255.5344\n",
      "Época 39/50 - Costo total: 648389.2502\n",
      "Época 40/50 - Costo total: 643526.6014\n",
      "Época 41/50 - Costo total: 638664.7004\n",
      "Época 42/50 - Costo total: 633802.1602\n",
      "Época 43/50 - Costo total: 628938.7980\n",
      "Época 44/50 - Costo total: 624075.3353\n",
      "Época 45/50 - Costo total: 619213.1039\n",
      "Época 46/50 - Costo total: 614353.7742\n",
      "Época 47/50 - Costo total: 609499.1192\n",
      "Época 48/50 - Costo total: 604650.8273\n",
      "Época 49/50 - Costo total: 599810.3639\n",
      "Época 50/50 - Costo total: 594978.8833\n"
     ]
    },
    {
     "ename": "ValueError",
     "evalue": "too many values to unpack (expected 2)",
     "output_type": "error",
     "traceback": [
      "\u001b[1;31m---------------------------------------------------------------------------\u001b[0m",
      "\u001b[1;31mValueError\u001b[0m                                Traceback (most recent call last)",
      "Cell \u001b[1;32mIn[10], line 3\u001b[0m\n\u001b[0;32m      1\u001b[0m \u001b[38;5;66;03m# Celda 5: Entrenamiento del Modelo PMF\u001b[39;00m\n\u001b[0;32m      2\u001b[0m \u001b[38;5;28mprint\u001b[39m(\u001b[38;5;124m\"\u001b[39m\u001b[38;5;124mIniciando entrenamiento PMF...\u001b[39m\u001b[38;5;124m\"\u001b[39m)\n\u001b[1;32m----> 3\u001b[0m U, V \u001b[38;5;241m=\u001b[39m train_pmf_with_bias(R_sparse, U, V, bu, bi, mu, lambda_, learning_rate, num_epochs)\n\u001b[0;32m      4\u001b[0m \u001b[38;5;28mprint\u001b[39m(\u001b[38;5;124m\"\u001b[39m\u001b[38;5;124mEntrenamiento completado.\u001b[39m\u001b[38;5;124m\"\u001b[39m)\n",
      "\u001b[1;31mValueError\u001b[0m: too many values to unpack (expected 2)"
     ]
    }
   ],
   "source": [
    "# Celda 5: Entrenamiento del Modelo PMF\n",
    "print(\"Iniciando entrenamiento PMF...\")\n",
    "U, V, bu, bi = train_pmf_with_bias(R_sparse, U, V, bu, bi, mu, lambda_, learning_rate, num_epochs)\n",
    "print(\"Entrenamiento completado.\")\n"
   ]
  },
  {
   "cell_type": "code",
   "execution_count": 17,
   "metadata": {},
   "outputs": [
    {
     "name": "stdout",
     "output_type": "stream",
     "text": [
      "MAE en el conjunto de validación: 3.4185\n"
     ]
    }
   ],
   "source": [
    "# Celda 6: Evaluación del Modelo (MAE)\n",
    "def calculate_mae(U, V, data):\n",
    "    total_error = 0\n",
    "    count = 0\n",
    "    for _, row in data.iterrows():\n",
    "        user_id = row['user']\n",
    "        item_id = row['item']\n",
    "        rating = row['rating']\n",
    "        if user_id in user_to_index and item_id in item_to_index:\n",
    "            pred = np.dot(U[user_to_index[user_id], :], V[item_to_index[item_id], :])\n",
    "            error = abs(rating - pred)\n",
    "            total_error += error\n",
    "            count += 1\n",
    "    mae = total_error / count if count > 0 else float('inf')\n",
    "    return mae\n",
    "\n",
    "# Calcular MAE en el conjunto de validación\n",
    "mae = calculate_mae(U, V, val_split)\n",
    "print(f\"MAE en el conjunto de validación: {mae:.4f}\")"
   ]
  },
  {
   "cell_type": "code",
   "execution_count": 18,
   "metadata": {},
   "outputs": [
    {
     "name": "stdout",
     "output_type": "stream",
     "text": [
      "Entrenando el modelo SVD...\n",
      "Modelo SVD entrenado correctamente.\n"
     ]
    }
   ],
   "source": [
    "# Celda 8: Entrenamiento del Modelo SVD\n",
    "from surprise import SVD, Dataset, Reader\n",
    "from surprise.model_selection import train_test_split\n",
    "\n",
    "# Carga de Datos en formato Surprise\n",
    "reader = Reader(rating_scale=(1, 10))\n",
    "data = Dataset.load_from_df(train_data[['user', 'item', 'rating']], reader)\n",
    "\n",
    "# División en conjunto de entrenamiento y validación\n",
    "trainset, valset = train_test_split(data, test_size=0.2, random_state=42)\n",
    "\n",
    "# Configuración del modelo SVD\n",
    "svd = SVD(n_factors=20, n_epochs=50, biased=True, lr_all=0.002, reg_all= 0.02, random_state=42)\n",
    "\n",
    "print(\"Entrenando el modelo SVD...\")\n",
    "svd.fit(trainset)\n",
    "print(\"Modelo SVD entrenado correctamente.\")"
   ]
  },
  {
   "cell_type": "code",
   "execution_count": null,
   "metadata": {},
   "outputs": [],
   "source": [
    "# Celda 9: Predicción combinada con PMF (con bias) y SVD\n",
    "def predict_rating(uid, iid, U, V, bu, bi, mu):\n",
    "    try:\n",
    "        # Predicción usando SVD\n",
    "        pred_svd = svd.predict(uid, iid).est\n",
    "    except:\n",
    "        pred_svd = None\n",
    "\n",
    "    # Predicción usando PMF con bias\n",
    "    if uid in user_to_index and iid in item_to_index:\n",
    "        user_idx = user_to_index[uid]\n",
    "        item_idx = item_to_index[iid]\n",
    "        pred_pmf = mu + bu[user_idx] + bi[item_idx] + np.dot(U[user_idx, :], V[item_idx, :])\n",
    "    else:\n",
    "        pred_pmf = None\n",
    "\n",
    "    # Promedio de predicciones si ambas son válidas\n",
    "    if pred_svd is not None and pred_pmf is not None:\n",
    "        pred = (pred_svd + pred_pmf) / 2\n",
    "    elif pred_svd is not None:\n",
    "        pred = pred_svd\n",
    "    elif pred_pmf is not None:\n",
    "        pred = pred_pmf\n",
    "    else:\n",
    "        pred = mu  # Si ambos fallan, usar la media global\n",
    "\n",
    "    # Clamping entre 1 y 10 con formato decimal \".0\"\n",
    "    return f\"{round(max(1, min(10, pred)))}.0\""
   ]
  },
  {
   "cell_type": "code",
   "execution_count": 20,
   "metadata": {},
   "outputs": [
    {
     "name": "stdout",
     "output_type": "stream",
     "text": [
      "Generando predicciones finales...\n",
      "Archivo 'predictions_pmf_svd.csv' generado correctamente.\n"
     ]
    }
   ],
   "source": [
    "# Celda 10: Generación del Archivo de Predicciones\n",
    "print(\"Generando predicciones finales...\")\n",
    "predictions = []\n",
    "\n",
    "for _, row in test_data.iterrows():\n",
    "    uid, iid, row_id = row['user'], row['item'], row['ID']\n",
    "    pred_rating = predict_rating(uid, iid, U, V)\n",
    "    predictions.append((row_id, pred_rating))\n",
    "\n",
    "# Crear el DataFrame con las predicciones\n",
    "predictions_df = pd.DataFrame(predictions, columns=[\"ID\", \"rating\"])\n",
    "\n",
    "# Guardar las predicciones en formato CSV\n",
    "output_filename = \"predictions_pmf_svd.csv\"\n",
    "predictions_df.to_csv(output_filename, index=False)\n",
    "print(f\"Archivo '{output_filename}' generado correctamente.\")"
   ]
  }
 ],
 "metadata": {
  "kernelspec": {
   "display_name": "recsys",
   "language": "python",
   "name": "python3"
  },
  "language_info": {
   "codemirror_mode": {
    "name": "ipython",
    "version": 3
   },
   "file_extension": ".py",
   "mimetype": "text/x-python",
   "name": "python",
   "nbconvert_exporter": "python",
   "pygments_lexer": "ipython3",
   "version": "3.11.11"
  }
 },
 "nbformat": 4,
 "nbformat_minor": 2
}
